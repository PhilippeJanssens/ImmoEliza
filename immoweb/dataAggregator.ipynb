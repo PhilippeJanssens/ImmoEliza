{
 "cells": [
  {
   "cell_type": "code",
   "execution_count": 13,
   "id": "b49b141b",
   "metadata": {},
   "outputs": [
    {
     "name": "stdout",
     "output_type": "stream",
     "text": [
      "immoweb_batch1.csv\n",
      "immoweb_batch2.csv\n",
      "immoweb_batch_101_105.csv\n",
      "immoweb_batch_106_110.csv\n",
      "immoweb_batch_111_115.csv\n",
      "immoweb_batch_116_120.csv\n",
      "immoweb_batch_11_15.csv\n",
      "immoweb_batch_121_125.csv\n",
      "immoweb_batch_126_130.csv\n",
      "immoweb_batch_131_135.csv\n",
      "immoweb_batch_136_140.csv\n",
      "immoweb_batch_141_145.csv\n",
      "immoweb_batch_146_150.csv\n",
      "immoweb_batch_151_155.csv\n",
      "immoweb_batch_156_160.csv\n",
      "immoweb_batch_161_165.csv\n",
      "immoweb_batch_166_170.csv\n",
      "immoweb_batch_16_20.csv\n",
      "immoweb_batch_181_185.csv\n",
      "immoweb_batch_186_190.csv\n"
     ]
    },
    {
     "name": "stderr",
     "output_type": "stream",
     "text": [
      "C:\\Users\\aubin\\anaconda3\\envs\\pythonBasics\\lib\\site-packages\\IPython\\core\\interactiveshell.py:3441: FutureWarning: The error_bad_lines argument has been deprecated and will be removed in a future version.\n",
      "\n",
      "\n",
      "  exec(code_obj, self.user_global_ns, self.user_ns)\n",
      "b'Skipping line 157: expected 101 fields, saw 104\\nSkipping line 158: expected 101 fields, saw 104\\nSkipping line 159: expected 101 fields, saw 104\\nSkipping line 160: expected 101 fields, saw 104\\nSkipping line 161: expected 101 fields, saw 104\\nSkipping line 162: expected 101 fields, saw 104\\nSkipping line 163: expected 101 fields, saw 104\\nSkipping line 164: expected 101 fields, saw 104\\nSkipping line 165: expected 101 fields, saw 104\\nSkipping line 166: expected 101 fields, saw 104\\nSkipping line 167: expected 101 fields, saw 104\\nSkipping line 168: expected 101 fields, saw 104\\nSkipping line 169: expected 101 fields, saw 104\\nSkipping line 170: expected 101 fields, saw 104\\nSkipping line 171: expected 101 fields, saw 104\\nSkipping line 172: expected 101 fields, saw 104\\nSkipping line 173: expected 101 fields, saw 104\\nSkipping line 174: expected 101 fields, saw 104\\nSkipping line 175: expected 101 fields, saw 104\\nSkipping line 176: expected 101 fields, saw 104\\nSkipping line 177: expected 101 fields, saw 104\\nSkipping line 178: expected 101 fields, saw 104\\nSkipping line 179: expected 101 fields, saw 104\\nSkipping line 180: expected 101 fields, saw 104\\nSkipping line 181: expected 101 fields, saw 104\\nSkipping line 182: expected 101 fields, saw 104\\nSkipping line 183: expected 101 fields, saw 104\\nSkipping line 184: expected 101 fields, saw 104\\nSkipping line 185: expected 101 fields, saw 104\\nSkipping line 186: expected 101 fields, saw 104\\nSkipping line 187: expected 101 fields, saw 104\\nSkipping line 188: expected 101 fields, saw 104\\nSkipping line 189: expected 101 fields, saw 104\\nSkipping line 190: expected 101 fields, saw 104\\nSkipping line 191: expected 101 fields, saw 104\\nSkipping line 192: expected 101 fields, saw 104\\nSkipping line 193: expected 101 fields, saw 104\\nSkipping line 194: expected 101 fields, saw 104\\nSkipping line 195: expected 101 fields, saw 104\\nSkipping line 196: expected 101 fields, saw 104\\nSkipping line 197: expected 101 fields, saw 104\\nSkipping line 198: expected 101 fields, saw 104\\nSkipping line 199: expected 101 fields, saw 104\\nSkipping line 200: expected 101 fields, saw 104\\nSkipping line 201: expected 101 fields, saw 104\\nSkipping line 202: expected 101 fields, saw 104\\nSkipping line 203: expected 101 fields, saw 104\\nSkipping line 204: expected 101 fields, saw 104\\nSkipping line 205: expected 101 fields, saw 104\\nSkipping line 206: expected 101 fields, saw 104\\nSkipping line 207: expected 101 fields, saw 104\\nSkipping line 208: expected 101 fields, saw 104\\nSkipping line 209: expected 101 fields, saw 104\\nSkipping line 210: expected 101 fields, saw 104\\nSkipping line 211: expected 101 fields, saw 104\\nSkipping line 212: expected 101 fields, saw 104\\nSkipping line 213: expected 101 fields, saw 104\\nSkipping line 214: expected 101 fields, saw 104\\nSkipping line 215: expected 101 fields, saw 104\\nSkipping line 216: expected 101 fields, saw 104\\nSkipping line 217: expected 101 fields, saw 104\\nSkipping line 218: expected 101 fields, saw 104\\nSkipping line 219: expected 101 fields, saw 104\\nSkipping line 220: expected 101 fields, saw 104\\nSkipping line 221: expected 101 fields, saw 104\\nSkipping line 222: expected 101 fields, saw 104\\nSkipping line 223: expected 101 fields, saw 104\\nSkipping line 224: expected 101 fields, saw 104\\nSkipping line 225: expected 101 fields, saw 104\\nSkipping line 226: expected 101 fields, saw 104\\nSkipping line 227: expected 101 fields, saw 104\\nSkipping line 228: expected 101 fields, saw 104\\nSkipping line 229: expected 101 fields, saw 104\\nSkipping line 230: expected 101 fields, saw 104\\nSkipping line 231: expected 101 fields, saw 104\\nSkipping line 232: expected 101 fields, saw 104\\nSkipping line 233: expected 101 fields, saw 104\\nSkipping line 234: expected 101 fields, saw 104\\nSkipping line 235: expected 101 fields, saw 104\\nSkipping line 236: expected 101 fields, saw 104\\nSkipping line 237: expected 101 fields, saw 104\\nSkipping line 238: expected 101 fields, saw 104\\nSkipping line 239: expected 101 fields, saw 104\\nSkipping line 240: expected 101 fields, saw 104\\nSkipping line 241: expected 101 fields, saw 104\\nSkipping line 242: expected 101 fields, saw 104\\nSkipping line 243: expected 101 fields, saw 104\\nSkipping line 244: expected 101 fields, saw 104\\nSkipping line 245: expected 101 fields, saw 104\\nSkipping line 246: expected 101 fields, saw 104\\nSkipping line 247: expected 101 fields, saw 104\\nSkipping line 248: expected 101 fields, saw 104\\nSkipping line 249: expected 101 fields, saw 104\\nSkipping line 250: expected 101 fields, saw 104\\nSkipping line 251: expected 101 fields, saw 104\\nSkipping line 252: expected 101 fields, saw 104\\nSkipping line 253: expected 101 fields, saw 104\\nSkipping line 254: expected 101 fields, saw 104\\nSkipping line 255: expected 101 fields, saw 104\\nSkipping line 256: expected 101 fields, saw 104\\nSkipping line 257: expected 101 fields, saw 104\\nSkipping line 258: expected 101 fields, saw 104\\nSkipping line 259: expected 101 fields, saw 104\\nSkipping line 260: expected 101 fields, saw 104\\nSkipping line 261: expected 101 fields, saw 104\\nSkipping line 262: expected 101 fields, saw 104\\nSkipping line 263: expected 101 fields, saw 104\\nSkipping line 264: expected 101 fields, saw 104\\nSkipping line 265: expected 101 fields, saw 104\\nSkipping line 266: expected 101 fields, saw 104\\nSkipping line 267: expected 101 fields, saw 104\\nSkipping line 268: expected 101 fields, saw 104\\nSkipping line 269: expected 101 fields, saw 104\\nSkipping line 270: expected 101 fields, saw 104\\nSkipping line 271: expected 101 fields, saw 104\\nSkipping line 272: expected 101 fields, saw 104\\nSkipping line 273: expected 101 fields, saw 104\\nSkipping line 274: expected 101 fields, saw 104\\nSkipping line 275: expected 101 fields, saw 104\\nSkipping line 276: expected 101 fields, saw 104\\nSkipping line 277: expected 101 fields, saw 104\\nSkipping line 278: expected 101 fields, saw 104\\nSkipping line 279: expected 101 fields, saw 104\\nSkipping line 280: expected 101 fields, saw 104\\nSkipping line 281: expected 101 fields, saw 104\\nSkipping line 282: expected 101 fields, saw 104\\nSkipping line 283: expected 101 fields, saw 104\\nSkipping line 284: expected 101 fields, saw 104\\nSkipping line 285: expected 101 fields, saw 104\\nSkipping line 286: expected 101 fields, saw 104\\nSkipping line 287: expected 101 fields, saw 104\\nSkipping line 288: expected 101 fields, saw 104\\nSkipping line 289: expected 101 fields, saw 104\\nSkipping line 290: expected 101 fields, saw 104\\nSkipping line 291: expected 101 fields, saw 104\\nSkipping line 292: expected 101 fields, saw 104\\nSkipping line 293: expected 101 fields, saw 104\\nSkipping line 294: expected 101 fields, saw 104\\nSkipping line 295: expected 101 fields, saw 104\\nSkipping line 296: expected 101 fields, saw 104\\nSkipping line 297: expected 101 fields, saw 104\\nSkipping line 298: expected 101 fields, saw 104\\nSkipping line 299: expected 101 fields, saw 104\\nSkipping line 300: expected 101 fields, saw 104\\nSkipping line 301: expected 101 fields, saw 104\\nSkipping line 302: expected 101 fields, saw 104\\nSkipping line 303: expected 101 fields, saw 104\\nSkipping line 304: expected 101 fields, saw 104\\nSkipping line 305: expected 101 fields, saw 104\\nSkipping line 306: expected 101 fields, saw 104\\nSkipping line 307: expected 101 fields, saw 104\\nSkipping line 308: expected 101 fields, saw 104\\nSkipping line 309: expected 101 fields, saw 104\\nSkipping line 310: expected 101 fields, saw 104\\n'\n",
      "b'Skipping line 158: expected 102 fields, saw 104\\nSkipping line 159: expected 102 fields, saw 104\\nSkipping line 160: expected 102 fields, saw 104\\nSkipping line 161: expected 102 fields, saw 104\\nSkipping line 162: expected 102 fields, saw 104\\nSkipping line 163: expected 102 fields, saw 104\\nSkipping line 164: expected 102 fields, saw 104\\nSkipping line 165: expected 102 fields, saw 104\\nSkipping line 166: expected 102 fields, saw 104\\nSkipping line 167: expected 102 fields, saw 104\\nSkipping line 168: expected 102 fields, saw 104\\nSkipping line 169: expected 102 fields, saw 104\\nSkipping line 170: expected 102 fields, saw 104\\nSkipping line 171: expected 102 fields, saw 104\\nSkipping line 172: expected 102 fields, saw 104\\nSkipping line 173: expected 102 fields, saw 104\\nSkipping line 174: expected 102 fields, saw 104\\nSkipping line 175: expected 102 fields, saw 104\\nSkipping line 176: expected 102 fields, saw 104\\nSkipping line 177: expected 102 fields, saw 104\\nSkipping line 178: expected 102 fields, saw 104\\nSkipping line 179: expected 102 fields, saw 104\\nSkipping line 180: expected 102 fields, saw 104\\nSkipping line 181: expected 102 fields, saw 104\\nSkipping line 182: expected 102 fields, saw 104\\nSkipping line 183: expected 102 fields, saw 104\\nSkipping line 184: expected 102 fields, saw 104\\nSkipping line 185: expected 102 fields, saw 104\\nSkipping line 186: expected 102 fields, saw 104\\nSkipping line 187: expected 102 fields, saw 104\\nSkipping line 188: expected 102 fields, saw 104\\nSkipping line 189: expected 102 fields, saw 104\\nSkipping line 190: expected 102 fields, saw 104\\nSkipping line 191: expected 102 fields, saw 104\\nSkipping line 192: expected 102 fields, saw 104\\nSkipping line 193: expected 102 fields, saw 104\\nSkipping line 194: expected 102 fields, saw 104\\nSkipping line 195: expected 102 fields, saw 104\\nSkipping line 196: expected 102 fields, saw 104\\nSkipping line 197: expected 102 fields, saw 104\\nSkipping line 198: expected 102 fields, saw 104\\nSkipping line 199: expected 102 fields, saw 104\\nSkipping line 200: expected 102 fields, saw 104\\nSkipping line 201: expected 102 fields, saw 104\\nSkipping line 202: expected 102 fields, saw 104\\nSkipping line 203: expected 102 fields, saw 104\\nSkipping line 204: expected 102 fields, saw 104\\nSkipping line 205: expected 102 fields, saw 104\\nSkipping line 206: expected 102 fields, saw 104\\nSkipping line 207: expected 102 fields, saw 104\\nSkipping line 208: expected 102 fields, saw 104\\nSkipping line 209: expected 102 fields, saw 104\\nSkipping line 210: expected 102 fields, saw 104\\nSkipping line 211: expected 102 fields, saw 104\\nSkipping line 212: expected 102 fields, saw 104\\nSkipping line 213: expected 102 fields, saw 104\\nSkipping line 214: expected 102 fields, saw 104\\nSkipping line 215: expected 102 fields, saw 104\\nSkipping line 216: expected 102 fields, saw 104\\nSkipping line 217: expected 102 fields, saw 104\\nSkipping line 218: expected 102 fields, saw 104\\nSkipping line 219: expected 102 fields, saw 104\\nSkipping line 220: expected 102 fields, saw 104\\nSkipping line 221: expected 102 fields, saw 104\\nSkipping line 222: expected 102 fields, saw 104\\nSkipping line 223: expected 102 fields, saw 104\\nSkipping line 224: expected 102 fields, saw 104\\nSkipping line 225: expected 102 fields, saw 104\\nSkipping line 226: expected 102 fields, saw 104\\nSkipping line 227: expected 102 fields, saw 104\\nSkipping line 228: expected 102 fields, saw 104\\nSkipping line 229: expected 102 fields, saw 104\\nSkipping line 230: expected 102 fields, saw 104\\nSkipping line 231: expected 102 fields, saw 104\\nSkipping line 232: expected 102 fields, saw 104\\nSkipping line 233: expected 102 fields, saw 104\\nSkipping line 234: expected 102 fields, saw 104\\nSkipping line 235: expected 102 fields, saw 104\\nSkipping line 236: expected 102 fields, saw 104\\nSkipping line 237: expected 102 fields, saw 104\\nSkipping line 238: expected 102 fields, saw 104\\nSkipping line 239: expected 102 fields, saw 104\\nSkipping line 240: expected 102 fields, saw 104\\nSkipping line 241: expected 102 fields, saw 104\\nSkipping line 242: expected 102 fields, saw 104\\nSkipping line 243: expected 102 fields, saw 104\\nSkipping line 244: expected 102 fields, saw 104\\nSkipping line 245: expected 102 fields, saw 104\\nSkipping line 246: expected 102 fields, saw 104\\nSkipping line 247: expected 102 fields, saw 104\\nSkipping line 248: expected 102 fields, saw 104\\nSkipping line 249: expected 102 fields, saw 104\\nSkipping line 250: expected 102 fields, saw 104\\nSkipping line 251: expected 102 fields, saw 104\\nSkipping line 252: expected 102 fields, saw 104\\nSkipping line 253: expected 102 fields, saw 104\\nSkipping line 254: expected 102 fields, saw 104\\nSkipping line 255: expected 102 fields, saw 104\\nSkipping line 256: expected 102 fields, saw 104\\nSkipping line 257: expected 102 fields, saw 104\\nSkipping line 258: expected 102 fields, saw 104\\nSkipping line 259: expected 102 fields, saw 104\\nSkipping line 260: expected 102 fields, saw 104\\nSkipping line 261: expected 102 fields, saw 104\\nSkipping line 262: expected 102 fields, saw 104\\nSkipping line 263: expected 102 fields, saw 104\\nSkipping line 264: expected 102 fields, saw 104\\nSkipping line 265: expected 102 fields, saw 104\\nSkipping line 266: expected 102 fields, saw 104\\nSkipping line 267: expected 102 fields, saw 104\\nSkipping line 268: expected 102 fields, saw 104\\nSkipping line 269: expected 102 fields, saw 104\\nSkipping line 270: expected 102 fields, saw 104\\nSkipping line 271: expected 102 fields, saw 104\\nSkipping line 272: expected 102 fields, saw 104\\nSkipping line 273: expected 102 fields, saw 104\\nSkipping line 274: expected 102 fields, saw 104\\nSkipping line 275: expected 102 fields, saw 104\\nSkipping line 276: expected 102 fields, saw 104\\nSkipping line 277: expected 102 fields, saw 104\\nSkipping line 278: expected 102 fields, saw 104\\nSkipping line 279: expected 102 fields, saw 104\\nSkipping line 280: expected 102 fields, saw 104\\nSkipping line 281: expected 102 fields, saw 104\\nSkipping line 282: expected 102 fields, saw 104\\nSkipping line 283: expected 102 fields, saw 104\\nSkipping line 284: expected 102 fields, saw 104\\nSkipping line 285: expected 102 fields, saw 104\\nSkipping line 286: expected 102 fields, saw 104\\nSkipping line 287: expected 102 fields, saw 104\\nSkipping line 288: expected 102 fields, saw 104\\nSkipping line 289: expected 102 fields, saw 104\\nSkipping line 290: expected 102 fields, saw 104\\nSkipping line 291: expected 102 fields, saw 104\\nSkipping line 292: expected 102 fields, saw 104\\nSkipping line 293: expected 102 fields, saw 104\\nSkipping line 294: expected 102 fields, saw 104\\nSkipping line 295: expected 102 fields, saw 104\\nSkipping line 296: expected 102 fields, saw 104\\nSkipping line 297: expected 102 fields, saw 104\\nSkipping line 298: expected 102 fields, saw 104\\nSkipping line 299: expected 102 fields, saw 104\\nSkipping line 300: expected 102 fields, saw 104\\nSkipping line 301: expected 102 fields, saw 104\\nSkipping line 302: expected 102 fields, saw 104\\nSkipping line 303: expected 102 fields, saw 104\\nSkipping line 304: expected 102 fields, saw 104\\nSkipping line 305: expected 102 fields, saw 104\\nSkipping line 306: expected 102 fields, saw 104\\nSkipping line 307: expected 102 fields, saw 104\\nSkipping line 308: expected 102 fields, saw 104\\nSkipping line 309: expected 102 fields, saw 104\\nSkipping line 310: expected 102 fields, saw 104\\nSkipping line 311: expected 102 fields, saw 104\\nSkipping line 312: expected 102 fields, saw 104\\n'\n"
     ]
    },
    {
     "name": "stdout",
     "output_type": "stream",
     "text": [
      "immoweb_batch_191_195.csv\n",
      "immoweb_batch_196_200.csv\n",
      "immoweb_batch_1_5.csv\n",
      "immoweb_batch_201_205.csv\n",
      "immoweb_batch_206_210.csv\n",
      "immoweb_batch_211_215.csv\n",
      "immoweb_batch_216_220.csv\n",
      "immoweb_batch_21_25.csv\n",
      "immoweb_batch_221_225.csv\n",
      "immoweb_batch_226_230.csv\n",
      "immoweb_batch_231_235.csv\n",
      "immoweb_batch_236_240.csv\n",
      "immoweb_batch_241_245.csv\n",
      "immoweb_batch_246_250.csv\n",
      "immoweb_batch_251_255.csv\n",
      "immoweb_batch_256_260.csv\n",
      "immoweb_batch_261_265.csv\n",
      "immoweb_batch_266_270.csv\n",
      "immoweb_batch_26_30.csv\n",
      "immoweb_batch_271_275.csv\n",
      "immoweb_batch_276_280.csv\n",
      "immoweb_batch_281_285.csv\n",
      "immoweb_batch_286_290.csv\n",
      "immoweb_batch_291_295.csv\n",
      "immoweb_batch_296_300.csv\n",
      "immoweb_batch_301_305.csv\n",
      "immoweb_batch_306_310.csv\n",
      "immoweb_batch_311_315.csv\n",
      "immoweb_batch_316_320.csv\n",
      "immoweb_batch_31_35.csv\n",
      "immoweb_batch_321_325.csv\n",
      "immoweb_batch_326_330.csv\n",
      "immoweb_batch_36_40.csv\n",
      "immoweb_batch_41_45.csv\n",
      "immoweb_batch_46_50.csv\n",
      "immoweb_batch_51_55.csv\n",
      "immoweb_batch_56_60.csv\n",
      "immoweb_batch_61_65.csv\n",
      "immoweb_batch_66_70.csv\n",
      "immoweb_batch_6_10.csv\n",
      "immoweb_batch_71_75.csv\n",
      "immoweb_batch_76_80.csv\n",
      "immoweb_batch_81_85.csv\n",
      "immoweb_batch_86_90.csv\n",
      "immoweb_batch_91_95.csv\n",
      "immoweb_batch_96_100.csv\n"
     ]
    }
   ],
   "source": [
    "import pandas as pd\n",
    "import os\n",
    "\n",
    "files = [f for f in os.listdir('.') if os.path.isfile(f)]\n",
    "\n",
    "li = []\n",
    "\n",
    "for filename in files:\n",
    "    if '.csv' in filename:\n",
    "        print(filename)\n",
    "        df = pd.read_csv(filename, index_col=None, header=0, error_bad_lines=False, encoding = \"ISO-8859-1\")\n",
    "        li.append(df)\n",
    "\n",
    "frame = pd.concat(li, axis=0, ignore_index=True)\n",
    "frame.to_csv('immoweb_aggregated.csv')"
   ]
  },
  {
   "cell_type": "code",
   "execution_count": null,
   "id": "138f3f5e",
   "metadata": {},
   "outputs": [],
   "source": []
  }
 ],
 "metadata": {
  "kernelspec": {
   "display_name": "Python 3 (ipykernel)",
   "language": "python",
   "name": "python3"
  },
  "language_info": {
   "codemirror_mode": {
    "name": "ipython",
    "version": 3
   },
   "file_extension": ".py",
   "mimetype": "text/x-python",
   "name": "python",
   "nbconvert_exporter": "python",
   "pygments_lexer": "ipython3",
   "version": "3.8.11"
  }
 },
 "nbformat": 4,
 "nbformat_minor": 5
}
