{
 "cells": [
  {
   "cell_type": "code",
   "execution_count": 10,
   "id": "3386e479",
   "metadata": {},
   "outputs": [],
   "source": [
    "import bs4\n",
    "import requests\n",
    "from bs4 import BeautifulSoup\n",
    "import numpy as np\n",
    "import pandas as pd\n",
    "import json\n",
    "import re\n",
    "import lxml.html\n",
    "import time\n",
    "import random\n",
    "from random import randint\n",
    "import logging\n",
    "import collections\n",
    "from time import gmtime, strftime\n",
    "\n",
    "import re\n",
    "from tabulate import tabulate\n",
    "import os\n",
    "\n",
    "date = strftime(\"%Y-%m-%d\")"
   ]
  },
  {
   "cell_type": "code",
   "execution_count": 16,
   "id": "781648c0",
   "metadata": {},
   "outputs": [
    {
     "data": {
      "text/plain": [
       "'import selenium\\n\\nfrom selenium import webdriver\\nfrom selenium.webdriver.common.keys import Keys\\n\\n# Here, we create instance of Firefox WebDriver.\\ndriver = webdriver.Firefox()\\n\\n\\ndriver.get(\"http://https://immoelissa.be/\")\\n\\n# The following line is a statement confirming that the title contains the word \"Python\".\\nassert \"Elissa\" in driver.title\\n\\nelem = driver.find_element_by_name(\"q\")\\nprice = driver.find_element_by_class_name(\"price\")\\n#search results:\\nelem.clear()\\nelem.send_keys(\"pycon\")\\nelem.send_keys(Keys.RETURN)\\n\\n# After submitting the page, you should get the result if there is one. To ensure that certain results\\n# are found, make an assertion:\\nassert \"No results found.\" not in driver.page_source\\ndriver.close()'"
      ]
     },
     "execution_count": 16,
     "metadata": {},
     "output_type": "execute_result"
    }
   ],
   "source": [
    "\"\"\"import selenium\n",
    "\n",
    "from selenium import webdriver\n",
    "from selenium.webdriver.common.keys import Keys\n",
    "\n",
    "# Here, we create instance of Firefox WebDriver.\n",
    "driver = webdriver.Firefox()\n",
    "\n",
    "\n",
    "driver.get(\"http://https://immoelissa.be/\")\n",
    "\n",
    "# The following line is a statement confirming that the title contains the word \"Python\".\n",
    "assert \"Elissa\" in driver.title\n",
    "\n",
    "elem = driver.find_element_by_name(\"q\")\n",
    "price = driver.find_element_by_class_name(\"price\")\n",
    "#search results:\n",
    "elem.clear()\n",
    "elem.send_keys(\"pycon\")\n",
    "elem.send_keys(Keys.RETURN)\n",
    "\n",
    "# After submitting the page, you should get the result if there is one. To ensure that certain results\n",
    "# are found, make an assertion:\n",
    "assert \"No results found.\" not in driver.page_source\n",
    "driver.close()\"\"\""
   ]
  },
  {
   "cell_type": "code",
   "execution_count": 35,
   "id": "2a905468",
   "metadata": {},
   "outputs": [
    {
     "name": "stdout",
     "output_type": "stream",
     "text": [
      "105 000\n",
      "Prix\n",
      "105 000 €\n",
      "Référence\n",
      "4045413\n",
      "Ville\n",
      "Liege\n",
      "Type du bien\n",
      "Commerce\n",
      "Disponibilité\n",
      "Vendu\n",
      "État du bien\n",
      "Bon état\n",
      "Revenu cadastral\n",
      "1 311 €\n",
      "Toilette\n",
      "1\n",
      "Cave\n",
      "Oui\n",
      "Type de chauffage\n",
      "Gaz\n",
      "105 000 €\n",
      "4045413\n",
      "Liege\n",
      "Commerce\n",
      "Vendu\n",
      "Bon état\n",
      "1 311 €\n",
      "1\n",
      "Oui\n",
      "Gaz\n"
     ]
    }
   ],
   "source": [
    "import selenium\n",
    "\n",
    "from selenium import webdriver\n",
    "from selenium.webdriver.common.keys import Keys\n",
    "\n",
    "driver = webdriver.Firefox()\n",
    "driver.get(\"https://immoelissa.be/annonces-immobilieres/4295347-rez-de-chaussee-commercial-3/\")\n",
    "#time.sleep(5)\n",
    "\n",
    "#elem = driver.find_element_by_name(\"q\")\n",
    "Price = driver.find_element_by_class_name(\"price\")\n",
    "#Detail = driver.find_element_by_class_XPath(\"dt\")\n",
    "print(Price.text)\n",
    "\n",
    "\n",
    "for desc_list in driver.find_elements_by_tag_name(\"dl\"):\n",
    "    print(desc_list.text)\n",
    "for desc_list in driver.find_elements_by_tag_name(\"dd\"):\n",
    "    print(desc_list.text)\n",
    "#desc_list={}\n",
    "#for desc_list in driver.find_elements_by_tag_name(\"dl\"):\n",
    "#    for elem in driver.find_elements_by_tag_name(\"dl\"):\n",
    "#        desc_list[\"\"]\n",
    "    \n",
    "#    for  in driver.find_elements_by_tag_name(\"dt\"):\n",
    "    #    print(desc_list.text)\n",
    "#    desc_list\n",
    "\n",
    "#print(desc_list)\n",
    "#assert \"No results found.\" not in driver.page_source\n",
    "driver.close()"
   ]
  },
  {
   "cell_type": "code",
   "execution_count": null,
   "id": "4a2db236",
   "metadata": {},
   "outputs": [],
   "source": [
    "import selenium\n",
    "\n",
    "from selenium import webdriver\n",
    "from selenium.webdriver.common.keys import Keys\n",
    "\n",
    "driver = webdriver.Firefox()\n",
    "driver.get(\"https://immoelissa.be/annonces-immobilieres/4295347-rez-de-chaussee-commercial-3/\")\n",
    "#time.sleep(5)\n",
    "\n",
    "Price = driver.find_element_by_class_name(\"price\")\n",
    "#Detail = driver.find_element_by_class_XPath(\"dt\")\n",
    "print(Price.text)\n",
    "\n",
    "\n",
    "for desc_list in driver.find_elements_by_tag_name(\"dl\"):\n",
    "    print(desc_list.text)\n",
    "for desc_list in driver.find_elements_by_tag_name(\"dd\"):\n",
    "    print(desc_list.text)\n",
    "#desc_list={}\n",
    "#for desc_list in driver.find_elements_by_tag_name(\"dl\"):\n",
    "#    for elem in driver.find_elements_by_tag_name(\"dl\"):\n",
    "#        desc_list[\"\"]\n",
    "    \n",
    "#    for  in driver.find_elements_by_tag_name(\"dt\"):\n",
    "    #    print(desc_list.text)\n",
    "#    desc_list\n",
    "\n",
    "#print(desc_list)\n",
    "#assert \"No results found.\" not in driver.page_source\n",
    "driver.close()"
   ]
  },
  {
   "cell_type": "code",
   "execution_count": null,
   "id": "68c67f69",
   "metadata": {},
   "outputs": [],
   "source": []
  },
  {
   "cell_type": "code",
   "execution_count": null,
   "id": "eb5e5264",
   "metadata": {},
   "outputs": [],
   "source": []
  },
  {
   "cell_type": "code",
   "execution_count": null,
   "id": "78917e37",
   "metadata": {},
   "outputs": [],
   "source": []
  },
  {
   "cell_type": "code",
   "execution_count": null,
   "id": "4ed225bd",
   "metadata": {},
   "outputs": [],
   "source": []
  }
 ],
 "metadata": {
  "kernelspec": {
   "display_name": "Python 3",
   "language": "python",
   "name": "python3"
  },
  "language_info": {
   "codemirror_mode": {
    "name": "ipython",
    "version": 3
   },
   "file_extension": ".py",
   "mimetype": "text/x-python",
   "name": "python",
   "nbconvert_exporter": "python",
   "pygments_lexer": "ipython3",
   "version": "3.8.8"
  }
 },
 "nbformat": 4,
 "nbformat_minor": 5
}
