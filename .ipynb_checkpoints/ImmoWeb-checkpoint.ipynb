{
 "cells": [
  {
   "cell_type": "code",
   "execution_count": 1,
   "id": "f6bda153",
   "metadata": {},
   "outputs": [],
   "source": [
    "import bs4\n",
    "import requests\n",
    "from bs4 import BeautifulSoup\n",
    "import numpy as np\n",
    "import pandas as pd\n",
    "import json\n",
    "import re\n",
    "import lxml.html\n",
    "import time\n",
    "import random\n",
    "from random import randint\n",
    "import logging\n",
    "import collections\n",
    "from time import gmtime, strftime\n",
    "\n",
    "import re\n",
    "from tabulate import tabulate\n",
    "import os"
   ]
  },
  {
   "cell_type": "code",
   "execution_count": 2,
   "id": "de86096a",
   "metadata": {},
   "outputs": [],
   "source": [
    "import selenium\n",
    "from selenium import webdriver\n",
    "from selenium.webdriver.common.keys import Keys\n",
    "\n",
    "import typing\n",
    "from typing import List, Dict"
   ]
  },
  {
   "cell_type": "code",
   "execution_count": 3,
   "id": "015f3951",
   "metadata": {},
   "outputs": [],
   "source": [
    "driver = webdriver.Chrome()"
   ]
  },
  {
   "cell_type": "code",
   "execution_count": 63,
   "id": "3b761cd5",
   "metadata": {},
   "outputs": [
    {
     "data": {
      "text/plain": [
       "'\\n\\n1. make a dataset\\n    1. Initializing it with correct column names.\\n-\\n2. open webpage\\n3. extract the list as dict\\n-\\n4. write to dataset\\n5. keep doing this\\n6. write dataset to CSV\\n\\n'"
      ]
     },
     "execution_count": 63,
     "metadata": {},
     "output_type": "execute_result"
    }
   ],
   "source": [
    "\"\"\"\n",
    "\n",
    "1. make a dataset\n",
    "    1. Initializing it with correct column names.\n",
    "-\n",
    "2. open webpage\n",
    "3. extract the list as dict\n",
    "-\n",
    "4. write to dataset\n",
    "5. keep doing this\n",
    "6. write dataset to CSV\n",
    "\n",
    "\"\"\""
   ]
  },
  {
   "cell_type": "code",
   "execution_count": 4,
   "id": "619760c0",
   "metadata": {},
   "outputs": [],
   "source": [
    "import pandas as pd "
   ]
  },
  {
   "cell_type": "code",
   "execution_count": 52,
   "id": "1298b27c",
   "metadata": {},
   "outputs": [],
   "source": [
    "class ImmoWeb():\n",
    "    \n",
    "    def __init__(self, start_url=\"https://www.immoweb.be/fr/recherche/maison/a-vendre?countries=BE&page=1&orderBy=relevance\"):\n",
    "        self.start_url = start_url\n",
    "        self.advert_urls = []\n",
    "        self.advert_details = []\n",
    "        \n",
    "    def page_advert_urls(self, page_url, url_piece = \"annonce\"):\n",
    "        driver.get(page_url)\n",
    "        time.sleep(random.uniform(1.0, 2.0))\n",
    "        for elem in driver.find_elements_by_tag_name(\"a\"):\n",
    "            link = elem.get_attribute(\"href\")\n",
    "            if not link is None and url_piece in link:\n",
    "                self.advert_urls.append(link)\n",
    "        print(self.advert_urls)\n",
    "\n",
    "    def readPagination(self):\n",
    "        \"\"\"\n",
    "        readPagination gathers all pages that contain independent ads. The first one is hardcoded and \n",
    "        aferwards it formats the URL as a string until no new ads are found.\n",
    "        \n",
    "        :return: a list of URLs that link to each page of a search query. \n",
    "        \"\"\"\n",
    "        # initialize a list for storing all the seperate links to individual ads.\n",
    "        #all_advert_urls = []\n",
    "        #advert_urls = []\n",
    "        counter = 2\n",
    "        print(self.start_url)\n",
    "        advert_urls = self.page_advert_urls(self.start_url)\n",
    "        print(advert_urls)\n",
    "        \n",
    "        time.sleep(random.uniform(1.0, 2.0))\n",
    "        \n",
    "        while advert_urls != []:\n",
    "            self.advert_urls.extend(advert_urls)\n",
    "            \n",
    "            page_url = f\"https://www.immoweb.be/fr/recherche/maison/a-vendre?countries=BE&page={counter}&orderBy=relevance\"\n",
    "            advert_urls = self.page_advert_urls(page_url)\n",
    "            \n",
    "            counter += 1\n",
    "            \n",
    "            time.sleep(random.uniform(1.0, 2.0))\n",
    "\n",
    "    def readAdPage(self,url):\n",
    "        \"\"\"\n",
    "        Method the reads all the information on the page and writes it to a dict using the key, \n",
    "        value pairs used on the website in question. \n",
    "    \n",
    "        :inp_url: get the input URL that we will be gathering information from.\n",
    "        :return: a dict that stores scraped data\n",
    "        \"\"\"\n",
    "        for advert_url in self.advert_urls:\n",
    "            # initialize some variables.\n",
    "            detailsKeys = []\n",
    "            detailsValues = []\n",
    "            details = {}\n",
    "    \n",
    "            # grab the URL page code\n",
    "            driver.get(advert_url)\n",
    "    \n",
    "            # find the tables in the page and split data in 2 types, keys and values.\n",
    "            for desc_list in driver.find_elements_by_tag_name(\"th\"):\n",
    "                detail = desc_list.text.split(\"\\n\")\n",
    "                detailsKeys.extend(detail)\n",
    "\n",
    "            for desc_list in driver.find_elements_by_tag_name(\"td\"):\n",
    "                detail = desc_list.text.split(\"\\n\")\n",
    "                detailsValues.extend(detail)\n",
    "                \n",
    "            while \"mètres carrés\" in detailsValues:\n",
    "                detailsValues.remove(\"mètres carrés\")\n",
    "            \n",
    "            while \"mètres\" in detailsValues:\n",
    "                detailsValues.remove(\"mètres\")\n",
    "\n",
    "            # build a dict containing all gathered data\n",
    "            for idx, x in enumerate(detailsKeys):\n",
    "                details[x] = detailsValues[idx]\n",
    "                \n",
    "            self.advert_details.append(details)"
   ]
  },
  {
   "cell_type": "code",
   "execution_count": 53,
   "id": "f5474218",
   "metadata": {},
   "outputs": [
    {
     "name": "stdout",
     "output_type": "stream",
     "text": [
      "https://www.immoweb.be/fr/recherche/maison/a-vendre?countries=BE&page=1&orderBy=relevance\n",
      "['https://www.immoweb.be/fr/annonce/maison/a-vendre/renaix/9600/9561355?searchId=6165347a6d5f4', 'https://www.immoweb.be/fr/annonce/9226305', 'https://www.immoweb.be/fr/annonce/maison/a-vendre/waterloo/1410/9114803?searchId=6165347a6d5f4', 'https://www.immoweb.be/fr/annonce/projet-neuf-maisons/a-vendre/blegny/4670/9558372?searchId=6165347a6d5f4', 'https://www.immoweb.be/fr/annonce/projet-neuf-maisons/a-vendre/anvers/2018/9560443?searchId=6165347a6d5f4', 'https://www.immoweb.be/fr/annonce/maison/a-vendre/leglise/6860/9559581?searchId=6165347a6d5f4', 'https://www.immoweb.be/fr/annonce/maison/a-vendre/bassenge/4690/9559618?searchId=6165347a6d5f4', 'https://www.immoweb.be/fr/annonce/maison/a-vendre/ternat/1740/9559205?searchId=6165347a6d5f4', 'https://www.immoweb.be/fr/annonce/maison/a-vendre/laeken/1020/9560029?searchId=6165347a6d5f4', 'https://www.immoweb.be/fr/annonce/maison/a-vendre/liege/4000/9520410?searchId=6165347a6d5f4', 'https://www.immoweb.be/fr/annonce/maison/a-vendre/saint-nicolas/4420/9557639?searchId=6165347a6d5f4', 'https://www.immoweb.be/fr/annonce/maison/a-vendre/lustin/5170/9557618?searchId=6165347a6d5f4', 'https://www.immoweb.be/fr/annonce/maison/a-vendre/waremme/4300/9557617?searchId=6165347a6d5f4', 'https://www.immoweb.be/fr/annonce/projet-neuf-maisons/a-vendre/renaix/9600/9557336?searchId=6165347a6d5f4', 'https://www.immoweb.be/fr/annonce/maison/a-vendre/leuven-kessel-lo/3010/9557665?searchId=6165347a6d5f4', 'https://www.immoweb.be/fr/annonce/maison/a-vendre/woluwe-saint-pierre/1150/9558301?searchId=6165347a6d5f4', 'https://www.immoweb.be/fr/annonce/maison-bel-etage/a-vendre/auvelais/5060/9330916?searchId=6165347a6d5f4', 'https://www.immoweb.be/fr/annonce/maison/a-vendre/jodoigne/1370/9555550?searchId=6165347a6d5f4', 'https://www.immoweb.be/fr/annonce/villa/a-vendre/boncelles/4100/9555588?searchId=6165347a6d5f4', 'https://www.immoweb.be/fr/annonce/maison/a-vendre/scry/4557/9515543?searchId=6165347a6d5f4', 'https://www.immoweb.be/fr/annonce/maison/a-vendre/renaix/9600/9553298?searchId=6165347a6d5f4', 'https://www.immoweb.be/fr/annonce/maison/a-vendre/esneux/4130/9553153?searchId=6165347a6d5f4', 'https://www.immoweb.be/fr/annonce/maison/a-vendre/ans/4430/9553723?searchId=6165347a6d5f4', 'https://www.immoweb.be/fr/annonce/maison/a-vendre/louvain/3000/9553304?searchId=6165347a6d5f4', 'https://www.immoweb.be/fr/annonce/villa/a-vendre/renaix/9600/9553828?searchId=6165347a6d5f4', 'https://www.immoweb.be/fr/annonce/maison/a-vendre/renaix/9600/9560130?searchId=6165347a6d5f4', 'https://www.immoweb.be/fr/annonce/immeuble-a-appartements/a-vendre/mellet/6211/9551453?searchId=6165347a6d5f4', 'https://www.immoweb.be/fr/annonce/projet-neuf-maisons/a-vendre/forest/2430/9552264?searchId=6165347a6d5f4', 'https://www.immoweb.be/fr/annonce/projet-neuf-maisons/a-vendre/forest/2430/9552267?searchId=6165347a6d5f4', 'https://www.immoweb.be/fr/annonce/maison/a-vendre/gingelom/3890/9559485?searchId=6165347a6d5f4', 'https://www.immoweb.be/fr/annonce/maison/a-vendre/chenee/4032/9561153?searchId=6165347a6d5f4']\n",
      "None\n"
     ]
    },
    {
     "ename": "TypeError",
     "evalue": "'NoneType' object is not iterable",
     "output_type": "error",
     "traceback": [
      "\u001b[0;31m---------------------------------------------------------------------------\u001b[0m",
      "\u001b[0;31mTypeError\u001b[0m                                 Traceback (most recent call last)",
      "\u001b[0;32m/var/folders/kp/_0_kl2nx1qz_4kpb_ctz9xww0000gn/T/ipykernel_26367/3062521302.py\u001b[0m in \u001b[0;36m<module>\u001b[0;34m\u001b[0m\n\u001b[1;32m      1\u001b[0m \u001b[0mimmoweb\u001b[0m \u001b[0;34m=\u001b[0m \u001b[0mImmoWeb\u001b[0m\u001b[0;34m(\u001b[0m\u001b[0;34m)\u001b[0m\u001b[0;34m\u001b[0m\u001b[0;34m\u001b[0m\u001b[0m\n\u001b[0;32m----> 2\u001b[0;31m \u001b[0mimmoweb\u001b[0m\u001b[0;34m.\u001b[0m\u001b[0mreadPagination\u001b[0m\u001b[0;34m(\u001b[0m\u001b[0;34m)\u001b[0m\u001b[0;34m\u001b[0m\u001b[0;34m\u001b[0m\u001b[0m\n\u001b[0m",
      "\u001b[0;32m/var/folders/kp/_0_kl2nx1qz_4kpb_ctz9xww0000gn/T/ipykernel_26367/440783043.py\u001b[0m in \u001b[0;36mreadPagination\u001b[0;34m(self)\u001b[0m\n\u001b[1;32m     33\u001b[0m \u001b[0;34m\u001b[0m\u001b[0m\n\u001b[1;32m     34\u001b[0m         \u001b[0;32mwhile\u001b[0m \u001b[0madvert_urls\u001b[0m \u001b[0;34m!=\u001b[0m \u001b[0;34m[\u001b[0m\u001b[0;34m]\u001b[0m\u001b[0;34m:\u001b[0m\u001b[0;34m\u001b[0m\u001b[0;34m\u001b[0m\u001b[0m\n\u001b[0;32m---> 35\u001b[0;31m             \u001b[0mself\u001b[0m\u001b[0;34m.\u001b[0m\u001b[0madvert_urls\u001b[0m\u001b[0;34m.\u001b[0m\u001b[0mextend\u001b[0m\u001b[0;34m(\u001b[0m\u001b[0madvert_urls\u001b[0m\u001b[0;34m)\u001b[0m\u001b[0;34m\u001b[0m\u001b[0;34m\u001b[0m\u001b[0m\n\u001b[0m\u001b[1;32m     36\u001b[0m \u001b[0;34m\u001b[0m\u001b[0m\n\u001b[1;32m     37\u001b[0m             \u001b[0mpage_url\u001b[0m \u001b[0;34m=\u001b[0m \u001b[0;34mf\"https://www.immoweb.be/fr/recherche/maison/a-vendre?countries=BE&page={counter}&orderBy=relevance\"\u001b[0m\u001b[0;34m\u001b[0m\u001b[0;34m\u001b[0m\u001b[0m\n",
      "\u001b[0;31mTypeError\u001b[0m: 'NoneType' object is not iterable"
     ]
    }
   ],
   "source": [
    "immoweb = ImmoWeb()\n",
    "immoweb.readPagination()"
   ]
  },
  {
   "cell_type": "code",
   "execution_count": 16,
   "id": "7b90fb5d",
   "metadata": {},
   "outputs": [
    {
     "name": "stdout",
     "output_type": "stream",
     "text": [
      "[{'À partir de': 'Après la signature de l’acte', 'Disponible le': '15 décembre 2021 - 00:00', 'Année de construction': '1930', 'État du bâtiment': 'Fraîchement rénové', 'Largeur de la façade à rue': '4.5 m', 'Nombre de façades': '2', 'Type d’environnement': 'Urbain', 'Surface habitable': '137 m²', 'Surface du salon': '20 m²', 'Type de cuisine': 'Équipée', 'Surface de la cuisine': '12 m²', 'Chambres': '3', 'Surface de la chambre 1': '20 m²', 'Surface de la chambre 2': '14 m²', 'Surface de la chambre 3': '18 m²', 'Salles de bains': '1', 'Toilettes': '2', 'Surface de bureau': '15 m²', 'Bureau': 'Oui', 'Cave': 'Oui', 'Meublé': 'Non', 'Surface du terrain': '60 m²', 'Largeur du terrain à rue': '4.5 m', \"Raccordement à l'égout\": 'Connecté', 'Eau, gaz & électricité': 'Oui', 'Ascenseur': 'Non', 'Accessible aux personnes avec un handicap': 'Non', 'Interphone vidéo': 'Oui', 'Piscine': 'Non', \"Consommation d'énergie primaire\": '200 kWh/m²', 'Classe énergétique': 'kilowattheure par mètres carrés', '': 'B', 'Numéro du rapport PEB': '20181222-0002117588-1', 'Emission CO₂': '5209 kg CO₂/m²', \"Consommation théorique totale d'énergie primaire\": 'Non communiqué', 'Type de chauffage': 'Gaz', 'Double vitrage': 'Oui', 'Permis de bâtir obtenu': 'Oui', 'Surface constructible totale au sol': '60 m²', 'Autorisation de lotissement': 'Non', \"Droit d'achat prioritaire possible\": 'Oui', 'Procédure pour violation de la réglementation urbanistique': 'Non', 'Type de zone inondable': 'Zone non inondable', 'Affectation urbanistique la plus récente sur la base des dénominations utilisées dans le registre des plans': \"Zone d'habitat (résidentiel, urbain ou rural)\", 'Prix': '185.000 €', 'Revenu cadastral': '185000 €', 'Immeuble de rapport': '391 €', 'Adresse': '391 €', 'Référence externe': 'Votre prêt hypothécaire en ligne avec Immoweb by Keytrade Bank?'}]\n"
     ]
    }
   ],
   "source": [
    "print(immoweb.advert_details)"
   ]
  },
  {
   "cell_type": "code",
   "execution_count": null,
   "id": "8160e001",
   "metadata": {},
   "outputs": [],
   "source": []
  }
 ],
 "metadata": {
  "kernelspec": {
   "display_name": "Python 3 (ipykernel)",
   "language": "python",
   "name": "python3"
  },
  "language_info": {
   "codemirror_mode": {
    "name": "ipython",
    "version": 3
   },
   "file_extension": ".py",
   "mimetype": "text/x-python",
   "name": "python",
   "nbconvert_exporter": "python",
   "pygments_lexer": "ipython3",
   "version": "3.9.7"
  }
 },
 "nbformat": 4,
 "nbformat_minor": 5
}
