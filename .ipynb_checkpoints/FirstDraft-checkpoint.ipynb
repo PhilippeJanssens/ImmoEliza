{
 "cells": [
  {
   "cell_type": "code",
   "execution_count": 57,
   "id": "f6bda153",
   "metadata": {},
   "outputs": [],
   "source": [
    "import bs4\n",
    "import requests\n",
    "from bs4 import BeautifulSoup\n",
    "import numpy as np\n",
    "import pandas as pd\n",
    "import json\n",
    "import re\n",
    "import lxml.html\n",
    "import time\n",
    "import random\n",
    "from random import randint\n",
    "import logging\n",
    "import collections\n",
    "from time import gmtime, strftime\n",
    "\n",
    "import re\n",
    "from tabulate import tabulate\n",
    "import os"
   ]
  },
  {
   "cell_type": "code",
   "execution_count": 67,
   "id": "de86096a",
   "metadata": {},
   "outputs": [],
   "source": [
    "import selenium\n",
    "from selenium import webdriver\n",
    "from selenium.webdriver.common.keys import Keys\n",
    "\n",
    "import typing\n",
    "from typing import List, Dict"
   ]
  },
  {
   "cell_type": "code",
   "execution_count": 59,
   "id": "015f3951",
   "metadata": {},
   "outputs": [],
   "source": [
    "driver = webdriver.Firefox()\n",
    "\n",
    "driver.get(\"https://immoelissa.be/annonces-immobilieres/4295347-rez-de-chaussee-commercial-3/\")\n"
   ]
  },
  {
   "cell_type": "code",
   "execution_count": 60,
   "id": "f4c77298",
   "metadata": {},
   "outputs": [
    {
     "name": "stdout",
     "output_type": "stream",
     "text": [
      "105 000\n"
     ]
    }
   ],
   "source": [
    "price = driver.find_element_by_class_name(\"price\")\n",
    "print(price.text)"
   ]
  },
  {
   "cell_type": "code",
   "execution_count": 61,
   "id": "860aa755",
   "metadata": {},
   "outputs": [
    {
     "name": "stdout",
     "output_type": "stream",
     "text": [
      "{'Prix': '105 000 €', 'Référence': '4045413', 'Ville': 'Liege', 'Type du bien': 'Commerce', 'Disponibilité': 'Vendu', 'État du bien': 'Bon état', 'Revenu cadastral': '1 311 €', 'Toilette': '1', 'Cave': 'Oui', 'Type de chauffage': 'Gaz'}\n"
     ]
    }
   ],
   "source": [
    "detailsKeys = []\n",
    "detailsValues = []\n",
    "details = {}\n",
    "\n",
    "for desc_list in driver.find_elements_by_tag_name(\"dt\"):\n",
    "    detail = desc_list.text.split(\"\\n\")\n",
    "    detailsKeys.extend(detail)\n",
    "    \n",
    "for desc_list in driver.find_elements_by_tag_name(\"dd\"):\n",
    "    detail = desc_list.text.split(\"\\n\")\n",
    "    detailsValues.extend(detail)\n",
    "    \n",
    "for idx, x in enumerate(detailsKeys):\n",
    "    details[x] = detailsValues[idx]\n",
    "    \n",
    "print(details)\n",
    "        \n",
    "    "
   ]
  },
  {
   "cell_type": "code",
   "execution_count": 62,
   "id": "780c71e3",
   "metadata": {},
   "outputs": [
    {
     "name": "stdout",
     "output_type": "stream",
     "text": [
      "Prix\n"
     ]
    }
   ],
   "source": [
    "detail = driver.find_element_by_tag_name(\"dt\")\n",
    "print(detail.text)"
   ]
  },
  {
   "cell_type": "code",
   "execution_count": 63,
   "id": "3b761cd5",
   "metadata": {},
   "outputs": [
    {
     "data": {
      "text/plain": [
       "'\\n\\n1. make a dataset\\n    1. Initializing it with correct column names.\\n-\\n2. open webpage\\n3. extract the list as dict\\n-\\n4. write to dataset\\n5. keep doing this\\n6. write dataset to CSV\\n\\n'"
      ]
     },
     "execution_count": 63,
     "metadata": {},
     "output_type": "execute_result"
    }
   ],
   "source": [
    "\"\"\"\n",
    "\n",
    "1. make a dataset\n",
    "    1. Initializing it with correct column names.\n",
    "-\n",
    "2. open webpage\n",
    "3. extract the list as dict\n",
    "-\n",
    "4. write to dataset\n",
    "5. keep doing this\n",
    "6. write dataset to CSV\n",
    "\n",
    "\"\"\""
   ]
  },
  {
   "cell_type": "code",
   "execution_count": null,
   "id": "0b4993ac",
   "metadata": {},
   "outputs": [],
   "source": [
    "import pandas as pd "
   ]
  },
  {
   "cell_type": "code",
   "execution_count": 64,
   "id": "1298b27c",
   "metadata": {},
   "outputs": [],
   "source": [
    "class ImmoWeb():\n",
    "    \n",
    "    def __init__(self, start_url):\n",
    "        self.page_urls = [start_url]\n",
    "        self.advert_urls = []\n",
    "        self.advert_details = []\n",
    "        \n",
    "    def properties_url(self, page_url):\n",
    "        driver.get(page_url)\n",
    "        time.sleep(random.uniform(1.0, 2.0))\n",
    "        for elem in driver.find_elements_by_tag_name(\"a\"):\n",
    "            link = elem.get_attribute(\"href\")\n",
    "            if not link is None and \"annonce\" in link:\n",
    "                self.advert_urls.append(link)\n",
    "        return url"
   ]
  },
  {
   "cell_type": "code",
   "execution_count": 70,
   "id": "a1fad8dc",
   "metadata": {},
   "outputs": [],
   "source": [
    "def readAdPage(inp_url):\n",
    "    \"\"\"\n",
    "    Method the reads all the information on the page and writes it to a dict using the key, \n",
    "    value pairs used on the website in question. \n",
    "    \n",
    "    :inp_url: get the input URL that we will be gathering information from.\n",
    "    :return: a dict that stores scraped data\n",
    "    \"\"\"\n",
    "    \n",
    "    # initialize some variables.\n",
    "    detailsKeys = []\n",
    "    detailsValues = []\n",
    "    details = {}\n",
    "    \n",
    "    # grab the URL page code\n",
    "    driver.get(inp_url)\n",
    "    \n",
    "    # find the tables in the page and split data in 2 types, keys and values.\n",
    "    for desc_list in driver.find_elements_by_tag_name(\"dt\"):\n",
    "        detail = desc_list.text.split(\"\\n\")\n",
    "        detailsKeys.extend(detail)\n",
    "\n",
    "    for desc_list in driver.find_elements_by_tag_name(\"dd\"):\n",
    "        detail = desc_list.text.split(\"\\n\")\n",
    "        detailsValues.extend(detail)\n",
    "\n",
    "    # build a dict containing all gathered data\n",
    "    for idx, x in enumerate(detailsKeys):\n",
    "        details[x] = detailsValues[idx]\n",
    "        \n",
    "    return details"
   ]
  },
  {
   "cell_type": "code",
   "execution_count": 68,
   "id": "53604810",
   "metadata": {},
   "outputs": [],
   "source": [
    "# we start with a list-of-dicts and append the found lists to it\n",
    "\n",
    "data: List[Dict] = []"
   ]
  },
  {
   "cell_type": "code",
   "execution_count": 71,
   "id": "1ce39acd",
   "metadata": {},
   "outputs": [],
   "source": [
    "result = readAdPage(\"https://immoelissa.be/annonces-immobilieres/4295347-rez-de-chaussee-commercial-3/\")\n",
    "\n"
   ]
  },
  {
   "cell_type": "code",
   "execution_count": 72,
   "id": "6cfa8ea3",
   "metadata": {},
   "outputs": [],
   "source": [
    "data.append(result)\n",
    "data.append(result)\n",
    "data.append(result)\n"
   ]
  },
  {
   "cell_type": "code",
   "execution_count": 73,
   "id": "3f8c488f",
   "metadata": {},
   "outputs": [
    {
     "name": "stdout",
     "output_type": "stream",
     "text": [
      "[{'Prix': '105 000 €', 'Référence': '4045413', 'Ville': 'Liege', 'Type du bien': 'Commerce', 'Disponibilité': 'Vendu', 'État du bien': 'Bon état', 'Revenu cadastral': '1 311 €', 'Toilette': '1', 'Cave': 'Oui', 'Type de chauffage': 'Gaz'}, {'Prix': '105 000 €', 'Référence': '4045413', 'Ville': 'Liege', 'Type du bien': 'Commerce', 'Disponibilité': 'Vendu', 'État du bien': 'Bon état', 'Revenu cadastral': '1 311 €', 'Toilette': '1', 'Cave': 'Oui', 'Type de chauffage': 'Gaz'}, {'Prix': '105 000 €', 'Référence': '4045413', 'Ville': 'Liege', 'Type du bien': 'Commerce', 'Disponibilité': 'Vendu', 'État du bien': 'Bon état', 'Revenu cadastral': '1 311 €', 'Toilette': '1', 'Cave': 'Oui', 'Type de chauffage': 'Gaz'}]\n"
     ]
    }
   ],
   "source": [
    "print(data)"
   ]
  },
  {
   "cell_type": "code",
   "execution_count": 76,
   "id": "f5474218",
   "metadata": {},
   "outputs": [],
   "source": [
    "driver.get('https://immoelissa.be/immobilier/?sort=prix-c')"
   ]
  },
  {
   "cell_type": "code",
   "execution_count": 118,
   "id": "a18993f4",
   "metadata": {},
   "outputs": [
    {
     "name": "stdout",
     "output_type": "stream",
     "text": [
      "['https://immoelissa.be/annonces-immobilieres/4295347-rez-de-chaussee-commercial-3/', 'https://immoelissa.be/annonces-immobilieres/4336908-agreable-appartement/', 'https://immoelissa.be/annonces-immobilieres/4345864-agreable-appartement/', 'https://immoelissa.be/annonces-immobilieres/4393872-studio-bien-situe/', 'https://immoelissa.be/annonces-immobilieres/4342411-maison-a-liege/', 'https://immoelissa.be/annonces-immobilieres/4349281-agreable-maison/', 'https://immoelissa.be/annonces-immobilieres/4398654-agreable-appartement/', 'https://immoelissa.be/annonces-immobilieres/4099146-vendu/', 'https://immoelissa.be/annonces-immobilieres/4056078-vendu-en-2-heures-vendu-en-2-heures/']\n"
     ]
    }
   ],
   "source": [
    "def properties_url(inp_url):\n",
    "    driver.get(inp_url)\n",
    "    url = []\n",
    "    time.sleep(random.uniform(1.0, 2.0))\n",
    "    for elem in driver.find_elements_by_tag_name(\"a\"):\n",
    "        link = elem.get_attribute(\"href\")\n",
    "        if not link is None and \"annonces\" in link:\n",
    "            url.append(link)\n",
    "    return url\n",
    "\n",
    "urls = properties_url('https://immoelissa.be/immobilier/?sort=prix-c')\n",
    "print(urls)"
   ]
  },
  {
   "cell_type": "code",
   "execution_count": 119,
   "id": "9ecb15f3",
   "metadata": {},
   "outputs": [
    {
     "name": "stdout",
     "output_type": "stream",
     "text": [
      "['https://immoelissa.be/annonces-immobilieres/4295347-rez-de-chaussee-commercial-3/', 'https://immoelissa.be/annonces-immobilieres/4336908-agreable-appartement/', 'https://immoelissa.be/annonces-immobilieres/4345864-agreable-appartement/', 'https://immoelissa.be/annonces-immobilieres/4393872-studio-bien-situe/', 'https://immoelissa.be/annonces-immobilieres/4342411-maison-a-liege/', 'https://immoelissa.be/annonces-immobilieres/4349281-agreable-maison/', 'https://immoelissa.be/annonces-immobilieres/4398654-agreable-appartement/', 'https://immoelissa.be/annonces-immobilieres/4099146-vendu/', 'https://immoelissa.be/annonces-immobilieres/4056078-vendu-en-2-heures-vendu-en-2-heures/']\n",
      "['https://immoelissa.be/annonces-immobilieres/4043951-maison-2-chambres-avec-jardin/', 'https://immoelissa.be/annonces-immobilieres/4455455-agreable-maison/', 'https://immoelissa.be/annonces-immobilieres/4010723-vendu/', 'https://immoelissa.be/annonces-immobilieres/4231794-vendu/', 'https://immoelissa.be/annonces-immobilieres/4045394-maison-3-chambres-avec-jardin/', 'https://immoelissa.be/annonces-immobilieres/4028507-maison-dhabitation-avec-cour/', 'https://immoelissa.be/annonces-immobilieres/4056043-vendu/', 'https://immoelissa.be/annonces-immobilieres/4012708-appartement-2-chambres-avec-vue-panoramique/', 'https://immoelissa.be/annonces-immobilieres/4395314-agreable-appartement/']\n",
      "['https://immoelissa.be/annonces-immobilieres/4076683-maison-a-soumagne/', 'https://immoelissa.be/annonces-immobilieres/4305745-agreable-appartement/', 'https://immoelissa.be/annonces-immobilieres/4012726-vendu/', 'https://immoelissa.be/annonces-immobilieres/4390377-agreable-maison/', 'https://immoelissa.be/annonces-immobilieres/4425478-agreable-maison/', 'https://immoelissa.be/annonces-immobilieres/4277384-agreable-appartement/', 'https://immoelissa.be/annonces-immobilieres/4064623-appartement-a-deux-pas-de-la-mediacite/', 'https://immoelissa.be/annonces-immobilieres/4233705-agreable-maison/', 'https://immoelissa.be/annonces-immobilieres/4136235-agreable-maison-2-chambres/']\n",
      "['https://immoelissa.be/annonces-immobilieres/4417992-maison/', 'https://immoelissa.be/annonces-immobilieres/4429995-agreable-maison/', 'https://immoelissa.be/annonces-immobilieres/4282889-agreable-appartement/', 'https://immoelissa.be/annonces-immobilieres/4013212-vendu/', 'https://immoelissa.be/annonces-immobilieres/4180541-immeuble-mixte/', 'https://immoelissa.be/annonces-immobilieres/4420663-agreable-maison/', 'https://immoelissa.be/annonces-immobilieres/4372580-agreable-appartement/', 'https://immoelissa.be/annonces-immobilieres/4056918-immeuble-mixte-idealement-situe/', 'https://immoelissa.be/annonces-immobilieres/4355249-agreable-appartement/']\n",
      "['https://immoelissa.be/annonces-immobilieres/4250958-agreable-maison/', 'https://immoelissa.be/annonces-immobilieres/4448021-agreable-maison/', 'https://immoelissa.be/annonces-immobilieres/4013227-vendu/', 'https://immoelissa.be/annonces-immobilieres/4306940-agreable-maison/', 'https://immoelissa.be/annonces-immobilieres/4099159-agreable-maison/', 'https://immoelissa.be/annonces-immobilieres/4013222-vendu/', 'https://immoelissa.be/annonces-immobilieres/4324460-agreable-maison/', 'https://immoelissa.be/annonces-immobilieres/4013225-vendu/', 'https://immoelissa.be/annonces-immobilieres/4013233-vendu/']\n",
      "['https://immoelissa.be/annonces-immobilieres/4364845-immeuble-mixte/', 'https://immoelissa.be/annonces-immobilieres/4422336-agreable-appartement/', 'https://immoelissa.be/annonces-immobilieres/4013228-vendu/', 'https://immoelissa.be/annonces-immobilieres/4364840-immeuble-mixte/', 'https://immoelissa.be/annonces-immobilieres/4079205-vendu/', 'https://immoelissa.be/annonces-immobilieres/4364652-agreable-appartement/', 'https://immoelissa.be/annonces-immobilieres/4324502-agreable-maison/', 'https://immoelissa.be/annonces-immobilieres/4141803-maison-3-chambre-avec-jardin-en-excellent-etat/', 'https://immoelissa.be/annonces-immobilieres/4013234-vendu-vendu-vendu/']\n",
      "['https://immoelissa.be/annonces-immobilieres/4345824-agreable-bungalow/', 'https://immoelissa.be/annonces-immobilieres/4448913-agreable-maison/', 'https://immoelissa.be/annonces-immobilieres/4368682-agreable-maison/', 'https://immoelissa.be/annonces-immobilieres/4394534-agreable-maison/', 'https://immoelissa.be/annonces-immobilieres/4432165-agreable-maison/', 'https://immoelissa.be/annonces-immobilieres/4381931-immeuble-de-rapport/', 'https://immoelissa.be/annonces-immobilieres/4290156-appartement-quai-de-rome/', 'https://immoelissa.be/annonces-immobilieres/4013269-entrepot/', 'https://immoelissa.be/annonces-immobilieres/4316269-agreable-penthouse/']\n",
      "['https://immoelissa.be/annonces-immobilieres/4224045-maison-bourgeoise/', 'https://immoelissa.be/annonces-immobilieres/4295299-agreable-bungalow/', 'https://immoelissa.be/annonces-immobilieres/4447025-agreable-maison/', 'https://immoelissa.be/annonces-immobilieres/4013247-ensemble-immobilier/', 'https://immoelissa.be/annonces-immobilieres/4181699-vendu/', 'https://immoelissa.be/annonces-immobilieres/4013248-vendu/', 'https://immoelissa.be/annonces-immobilieres/4155701-immeuble-de-rapport/', 'https://immoelissa.be/annonces-immobilieres/4407705-hangar/', 'https://immoelissa.be/annonces-immobilieres/4370198-immeuble-de-rapport/']\n",
      "['https://immoelissa.be/annonces-immobilieres/4285434-hangar-garage-a-grivegnee/', 'https://immoelissa.be/annonces-immobilieres/4013254-vendu/', 'https://immoelissa.be/annonces-immobilieres/4010174-vendu/', 'https://immoelissa.be/annonces-immobilieres/4518980-maison-de-maitre-bien-coup-de-coeur/', 'https://immoelissa.be/annonces-immobilieres/4519152-maison-de-maitre-bien-coup-de-coeur/', 'https://immoelissa.be/annonces-immobilieres/4223975-vendu/', 'https://immoelissa.be/annonces-immobilieres/4102231-vendu-en-24-heures/', 'https://immoelissa.be/annonces-immobilieres/4010127-maison-2-chambres-avec-jardin/', 'https://immoelissa.be/annonces-immobilieres/4013265-terrain/']\n",
      "['https://immoelissa.be/annonces-immobilieres/4010673-vendu/', 'https://immoelissa.be/annonces-immobilieres/4418991-maison/', 'https://immoelissa.be/annonces-immobilieres/4195116-agreable-maison/', 'https://immoelissa.be/annonces-immobilieres/4010679-terrain/', 'https://immoelissa.be/annonces-immobilieres/4532479-terrain/', 'https://immoelissa.be/annonces-immobilieres/4013268-terrain/', 'https://immoelissa.be/annonces-immobilieres/4449004-studio/', 'https://immoelissa.be/annonces-immobilieres/4282968-agreable-appartement/', 'https://immoelissa.be/annonces-immobilieres/4010688-vendu/']\n",
      "['https://immoelissa.be/annonces-immobilieres/4349297-agreable-maison/']\n",
      "[]\n"
     ]
    }
   ],
   "source": [
    "def readPagination():\n",
    "    \"\"\"\n",
    "    readPagination gathers all pages that contain independent ads. The first one is hardcoded and \n",
    "    aferwards it formats the URL as a string until no new ads are found.\n",
    "    \n",
    "    :return: a list of URLs that link to each page of a search query. \n",
    "    \"\"\"\n",
    "\n",
    "    # initiaze a list for storing all the page URLS\n",
    "    page_urls = []\n",
    "    first_page = 'https://immoelissa.be/immobilier/?sort=prix-c'\n",
    "    page_urls.append(first_page)\n",
    "    \n",
    "    # initialize a list for storing all the seperate links to individual ads.\n",
    "    all_advert_urls = []\n",
    "    advert_urls = []\n",
    "    counter = 2\n",
    "       \n",
    "    advert_urls = properties_url(first_page)\n",
    "    all_advert_urls.extend(advert_urls)\n",
    "    \n",
    "    print(advert_urls)\n",
    "\n",
    "    while advert_urls != []:\n",
    "        url2 = f\"https://immoelissa.be/immobilier/?pg={counter}&sort=prix-c\"\n",
    "        advert_urls = properties_url(url2)\n",
    "        all_advert_urls.extend(advert_urls)\n",
    "        counter += 1\n",
    "        print(advert_urls)\n",
    "        \n",
    "    return all_advert_urls\n",
    "\n",
    "all_advert_urls = readPagination()"
   ]
  },
  {
   "cell_type": "code",
   "execution_count": 120,
   "id": "9444886f",
   "metadata": {},
   "outputs": [
    {
     "ename": "NameError",
     "evalue": "name 'all_advert_urls' is not defined",
     "output_type": "error",
     "traceback": [
      "\u001b[1;31m---------------------------------------------------------------------------\u001b[0m",
      "\u001b[1;31mNameError\u001b[0m                                 Traceback (most recent call last)",
      "\u001b[1;32m~\\AppData\\Local\\Temp/ipykernel_14040/1367858876.py\u001b[0m in \u001b[0;36m<module>\u001b[1;34m\u001b[0m\n\u001b[1;32m----> 1\u001b[1;33m \u001b[0mprint\u001b[0m\u001b[1;33m(\u001b[0m\u001b[0mall_advert_urls\u001b[0m\u001b[1;33m)\u001b[0m\u001b[1;33m\u001b[0m\u001b[1;33m\u001b[0m\u001b[0m\n\u001b[0m",
      "\u001b[1;31mNameError\u001b[0m: name 'all_advert_urls' is not defined"
     ]
    }
   ],
   "source": [
    "print(all_advert_urls)"
   ]
  },
  {
   "cell_type": "code",
   "execution_count": null,
   "id": "7b90fb5d",
   "metadata": {},
   "outputs": [],
   "source": []
  }
 ],
 "metadata": {
  "kernelspec": {
   "display_name": "Python 3 (ipykernel)",
   "language": "python",
   "name": "python3"
  },
  "language_info": {
   "codemirror_mode": {
    "name": "ipython",
    "version": 3
   },
   "file_extension": ".py",
   "mimetype": "text/x-python",
   "name": "python",
   "nbconvert_exporter": "python",
   "pygments_lexer": "ipython3",
   "version": "3.9.7"
  }
 },
 "nbformat": 4,
 "nbformat_minor": 5
}
