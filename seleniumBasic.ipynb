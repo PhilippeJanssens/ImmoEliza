{
 "cells": [
  {
   "cell_type": "code",
   "execution_count": 1,
   "id": "c185cece",
   "metadata": {},
   "outputs": [],
   "source": [
    "import bs4\n",
    "import requests\n",
    "from bs4 import BeautifulSoup\n",
    "import numpy as np\n",
    "import pandas as pd\n",
    "import json\n",
    "import re\n",
    "import lxml.html\n",
    "import time\n",
    "import random\n",
    "from random import randint\n",
    "import logging\n",
    "import collections\n",
    "from time import gmtime, strftime\n",
    "\n",
    "import re\n",
    "from tabulate import tabulate\n",
    "import os"
   ]
  },
  {
   "cell_type": "code",
   "execution_count": 2,
   "id": "03f10065",
   "metadata": {},
   "outputs": [],
   "source": [
    "import selenium\n",
    "from selenium import webdriver\n",
    "from selenium.webdriver.common.keys import Keys"
   ]
  },
  {
   "cell_type": "code",
   "execution_count": 39,
   "id": "f75c4563",
   "metadata": {},
   "outputs": [],
   "source": [
    "driver = webdriver.Chrome()\n",
    "\n",
    "driver.get(\"https://immoelissa.be/immobilier/?sort=prix-c\")\n",
    "\n",
    "#for elem in driver.find_elements_by_tag_name(\"a\"):\n",
    "#    print(elem.get(\"href\"))"
   ]
  },
  {
   "cell_type": "code",
   "execution_count": 40,
   "id": "fe4fcc56",
   "metadata": {},
   "outputs": [],
   "source": [
    "def properties_url(driver):\n",
    "    url = []\n",
    "    for elem in driver.find_elements_by_tag_name(\"a\"):\n",
    "        link = elem.get_attribute(\"href\")\n",
    "        if not link is None and \"annonces\" in link:\n",
    "            url.append(link)\n",
    "    return url\n",
    "page_properties_url = properties_url(driver)"
   ]
  },
  {
   "cell_type": "code",
   "execution_count": 41,
   "id": "13cac6fb",
   "metadata": {},
   "outputs": [
    {
     "name": "stdout",
     "output_type": "stream",
     "text": [
      "105 000\n",
      "109 000\n",
      "109 000\n",
      "109 000\n",
      "109 000\n",
      "109 000\n",
      "115 000\n",
      "119 000\n",
      "119 000\n"
     ]
    }
   ],
   "source": [
    "for elem in page_properties_url:\n",
    "    driver.get(elem)\n",
    "    price = driver.find_element_by_class_name(\"price\")\n",
    "    print(price.text)\n",
    "    time.sleep(random.uniform(1.0, 2.0))"
   ]
  },
  {
   "cell_type": "code",
   "execution_count": 44,
   "id": "9d917f5b",
   "metadata": {},
   "outputs": [
    {
     "name": "stdout",
     "output_type": "stream",
     "text": [
      "{'Prix': '105 000 €', 'Référence': '4045413', 'Ville': 'Liege', 'Type du bien': 'Commerce', 'Disponibilité': 'Vendu', 'État du bien': 'Bon état', 'Revenu cadastral': '1 311 €', 'Toilette': '1', 'Cave': 'Oui', 'Type de chauffage': 'Gaz'}\n"
     ]
    }
   ],
   "source": [
    "driver.get(page_properties_url[0])\n",
    "\n",
    "detailsKeys = []\n",
    "detailsValues = []\n",
    "details = {}\n",
    "\n",
    "for desc_list in driver.find_elements_by_tag_name(\"dt\"):\n",
    "    detail = desc_list.text.split(\"\\n\")\n",
    "    detailsKeys.extend(detail)\n",
    "    \n",
    "for desc_list in driver.find_elements_by_tag_name(\"dd\"):\n",
    "    detail = desc_list.text.split(\"\\n\")\n",
    "    detailsValues.extend(detail)\n",
    "    \n",
    "for idx, x in enumerate(detailsKeys):\n",
    "    details[x] = detailsValues[idx]\n",
    "    \n",
    "print(details)\n",
    "        \n",
    "    "
   ]
  },
  {
   "cell_type": "code",
   "execution_count": 45,
   "id": "e2bd7397",
   "metadata": {},
   "outputs": [
    {
     "name": "stdout",
     "output_type": "stream",
     "text": [
      "Prix\n"
     ]
    }
   ],
   "source": [
    "detail = driver.find_element_by_tag_name(\"dt\")\n",
    "print(detail.text)"
   ]
  },
  {
   "cell_type": "code",
   "execution_count": 46,
   "id": "ca935925",
   "metadata": {},
   "outputs": [
    {
     "data": {
      "text/plain": [
       "'\\n\\n1. make a dataset\\n    1. Initializing it with correct column names.\\n-\\n2. open webpage\\n3. extract the list as dict\\n-\\n4. write to dataset\\n5. keep doing this\\n6. write dataset to CSV\\n\\n'"
      ]
     },
     "execution_count": 46,
     "metadata": {},
     "output_type": "execute_result"
    }
   ],
   "source": [
    "\"\"\"\n",
    "\n",
    "1. make a dataset\n",
    "    1. Initializing it with correct column names.\n",
    "-\n",
    "2. open webpage\n",
    "3. extract the list as dict\n",
    "-\n",
    "4. write to dataset\n",
    "5. keep doing this\n",
    "6. write dataset to CSV\n",
    "\n",
    "\"\"\""
   ]
  },
  {
   "cell_type": "code",
   "execution_count": 47,
   "id": "3acc2d00",
   "metadata": {},
   "outputs": [],
   "source": [
    "import pandas as pd \n",
    "\n"
   ]
  },
  {
   "cell_type": "code",
   "execution_count": null,
   "id": "08daf9ae",
   "metadata": {},
   "outputs": [],
   "source": []
  }
 ],
 "metadata": {
  "kernelspec": {
   "display_name": "Python 3 (ipykernel)",
   "language": "python",
   "name": "python3"
  },
  "language_info": {
   "codemirror_mode": {
    "name": "ipython",
    "version": 3
   },
   "file_extension": ".py",
   "mimetype": "text/x-python",
   "name": "python",
   "nbconvert_exporter": "python",
   "pygments_lexer": "ipython3",
   "version": "3.9.7"
  }
 },
 "nbformat": 4,
 "nbformat_minor": 5
}
