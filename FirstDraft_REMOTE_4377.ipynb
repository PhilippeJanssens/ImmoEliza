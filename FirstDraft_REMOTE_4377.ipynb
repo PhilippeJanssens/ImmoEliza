{
 "cells": [
  {
   "cell_type": "code",
   "execution_count": 1,
   "id": "2fb33df5",
   "metadata": {},
   "outputs": [],
   "source": [
    "import bs4\n",
    "import requests\n",
    "from bs4 import BeautifulSoup\n",
    "import numpy as np\n",
    "import pandas as pd\n",
    "import json\n",
    "import re\n",
    "import lxml.html\n",
    "import time\n",
    "import random\n",
    "from random import randint\n",
    "import logging\n",
    "import collections\n",
    "from time import gmtime, strftime\n",
    "\n",
    "import re\n",
    "from tabulate import tabulate\n",
    "import os"
   ]
  },
  {
   "cell_type": "code",
   "execution_count": 2,
   "id": "3aabf84e",
   "metadata": {},
   "outputs": [],
   "source": [
    "import selenium\n",
    "from selenium import webdriver\n",
    "from selenium.webdriver.common.keys import Keys\n",
    "\n",
    "import typing\n",
    "from typing import List, Dict"
   ]
  },
  {
   "cell_type": "code",
   "execution_count": 59,
   "id": "23962bbb",
   "metadata": {},
   "outputs": [],
   "source": [
    "driver = webdriver.Firefox()\n",
    "\n",
    "driver.get(\"https://immoelissa.be/annonces-immobilieres/4295347-rez-de-chaussee-commercial-3/\")\n"
   ]
  },
  {
   "cell_type": "code",
   "execution_count": 60,
   "id": "452bd7a0",
   "metadata": {},
   "outputs": [
    {
     "name": "stdout",
     "output_type": "stream",
     "text": [
      "105 000\n"
     ]
    }
   ],
   "source": [
    "price = driver.find_element_by_class_name(\"price\")\n",
    "print(price.text)"
   ]
  },
  {
   "cell_type": "code",
   "execution_count": 61,
   "id": "0e98e604",
   "metadata": {},
   "outputs": [
    {
     "name": "stdout",
     "output_type": "stream",
     "text": [
      "{'Prix': '105 000 €', 'Référence': '4045413', 'Ville': 'Liege', 'Type du bien': 'Commerce', 'Disponibilité': 'Vendu', 'État du bien': 'Bon état', 'Revenu cadastral': '1 311 €', 'Toilette': '1', 'Cave': 'Oui', 'Type de chauffage': 'Gaz'}\n"
     ]
    }
   ],
   "source": [
    "detailsKeys = []\n",
    "detailsValues = []\n",
    "details = {}\n",
    "\n",
    "for desc_list in driver.find_elements_by_tag_name(\"dt\"):\n",
    "    detail = desc_list.text.split(\"\\n\")\n",
    "    detailsKeys.extend(detail)\n",
    "    \n",
    "for desc_list in driver.find_elements_by_tag_name(\"dd\"):\n",
    "    detail = desc_list.text.split(\"\\n\")\n",
    "    detailsValues.extend(detail)\n",
    "    \n",
    "for idx, x in enumerate(detailsKeys):\n",
    "    details[x] = detailsValues[idx]\n",
    "    \n",
    "print(details)\n",
    "        \n",
    "    "
   ]
  },
  {
   "cell_type": "code",
   "execution_count": 62,
   "id": "4280c9ad",
   "metadata": {},
   "outputs": [
    {
     "name": "stdout",
     "output_type": "stream",
     "text": [
      "Prix\n"
     ]
    }
   ],
   "source": [
    "detail = driver.find_element_by_tag_name(\"dt\")\n",
    "print(detail.text)"
   ]
  },
  {
   "cell_type": "code",
   "execution_count": 63,
   "id": "3cae317e",
   "metadata": {},
   "outputs": [
    {
     "data": {
      "text/plain": [
       "'\\n\\n1. make a dataset\\n    1. Initializing it with correct column names.\\n-\\n2. open webpage\\n3. extract the list as dict\\n-\\n4. write to dataset\\n5. keep doing this\\n6. write dataset to CSV\\n\\n'"
      ]
     },
     "execution_count": 63,
     "metadata": {},
     "output_type": "execute_result"
    }
   ],
   "source": [
    "\"\"\"\n",
    "\n",
    "1. make a dataset\n",
    "    1. Initializing it with correct column names.\n",
    "-\n",
    "2. open webpage\n",
    "3. extract the list as dict\n",
    "-\n",
    "4. write to dataset\n",
    "5. keep doing this\n",
    "6. write dataset to CSV\n",
    "\n",
    "\"\"\""
   ]
  },
  {
   "cell_type": "code",
   "execution_count": 64,
   "id": "91b4d8d5",
   "metadata": {},
   "outputs": [],
   "source": [
    "import pandas as pd \n",
    "\n"
   ]
  },
  {
   "cell_type": "code",
   "execution_count": 70,
   "id": "9a3727d9",
   "metadata": {},
   "outputs": [],
   "source": [
    "def readAdPage(inp_url):\n",
    "    \"\"\"\n",
    "    Method the reads all the information on the page and writes it to a dict using the key, \n",
    "    value pairs used on the website in question. \n",
    "    \n",
    "    :inp_url: get the input URL that we will be gathering information from.\n",
    "    :return: a dict that stores scraped data\n",
    "    \"\"\"\n",
    "    \n",
    "    # initialize some variables.\n",
    "    detailsKeys = []\n",
    "    detailsValues = []\n",
    "    details = {}\n",
    "    \n",
    "    # grab the URL page code\n",
    "    driver.get(inp_url)\n",
    "    \n",
    "    # find the tables in the page and split data in 2 types, keys and values.\n",
    "    for desc_list in driver.find_elements_by_tag_name(\"dt\"):\n",
    "        detail = desc_list.text.split(\"\\n\")\n",
    "        detailsKeys.extend(detail)\n",
    "\n",
    "    for desc_list in driver.find_elements_by_tag_name(\"dd\"):\n",
    "        detail = desc_list.text.split(\"\\n\")\n",
    "        detailsValues.extend(detail)\n",
    "\n",
    "    # build a dict containing all gathered data\n",
    "    for idx, x in enumerate(detailsKeys):\n",
    "        details[x] = detailsValues[idx]\n",
    "        \n",
    "    return details"
   ]
  },
  {
   "cell_type": "code",
   "execution_count": 68,
   "id": "347814e5",
   "metadata": {},
   "outputs": [],
   "source": [
    "# we start with a list-of-dicts and append the found lists to it\n",
    "\n",
    "data: List[Dict] = []"
   ]
  },
  {
   "cell_type": "code",
   "execution_count": 71,
   "id": "82383313",
   "metadata": {},
   "outputs": [],
   "source": [
    "result = readAdPage(\"https://immoelissa.be/annonces-immobilieres/4295347-rez-de-chaussee-commercial-3/\")\n",
    "\n"
   ]
  },
  {
   "cell_type": "code",
   "execution_count": 72,
   "id": "88e93b39",
   "metadata": {},
   "outputs": [],
   "source": [
    "data.append(result)\n",
    "data.append(result)\n",
    "data.append(result)\n"
   ]
  },
  {
   "cell_type": "code",
   "execution_count": 73,
   "id": "b6cb367a",
   "metadata": {},
   "outputs": [
    {
     "name": "stdout",
     "output_type": "stream",
     "text": [
      "[{'Prix': '105 000 €', 'Référence': '4045413', 'Ville': 'Liege', 'Type du bien': 'Commerce', 'Disponibilité': 'Vendu', 'État du bien': 'Bon état', 'Revenu cadastral': '1 311 €', 'Toilette': '1', 'Cave': 'Oui', 'Type de chauffage': 'Gaz'}, {'Prix': '105 000 €', 'Référence': '4045413', 'Ville': 'Liege', 'Type du bien': 'Commerce', 'Disponibilité': 'Vendu', 'État du bien': 'Bon état', 'Revenu cadastral': '1 311 €', 'Toilette': '1', 'Cave': 'Oui', 'Type de chauffage': 'Gaz'}, {'Prix': '105 000 €', 'Référence': '4045413', 'Ville': 'Liege', 'Type du bien': 'Commerce', 'Disponibilité': 'Vendu', 'État du bien': 'Bon état', 'Revenu cadastral': '1 311 €', 'Toilette': '1', 'Cave': 'Oui', 'Type de chauffage': 'Gaz'}]\n"
     ]
    }
   ],
   "source": [
    "print(data)"
   ]
  },
  {
   "cell_type": "code",
   "execution_count": 76,
   "id": "e53f27cf",
   "metadata": {},
   "outputs": [],
   "source": [
    "driver.get('https://immoelissa.be/immobilier/?sort=prix-c')"
   ]
  },
  {
   "cell_type": "code",
   "execution_count": 118,
   "id": "09946dc0",
   "metadata": {},
   "outputs": [
    {
     "name": "stdout",
     "output_type": "stream",
     "text": [
      "['https://immoelissa.be/annonces-immobilieres/4295347-rez-de-chaussee-commercial-3/', 'https://immoelissa.be/annonces-immobilieres/4336908-agreable-appartement/', 'https://immoelissa.be/annonces-immobilieres/4345864-agreable-appartement/', 'https://immoelissa.be/annonces-immobilieres/4393872-studio-bien-situe/', 'https://immoelissa.be/annonces-immobilieres/4342411-maison-a-liege/', 'https://immoelissa.be/annonces-immobilieres/4349281-agreable-maison/', 'https://immoelissa.be/annonces-immobilieres/4398654-agreable-appartement/', 'https://immoelissa.be/annonces-immobilieres/4099146-vendu/', 'https://immoelissa.be/annonces-immobilieres/4056078-vendu-en-2-heures-vendu-en-2-heures/']\n"
     ]
    }
   ],
   "source": [
    "def properties_url(inp_url):\n",
    "    driver.get(inp_url)\n",
    "    url = []\n",
    "    time.sleep(random.uniform(1.0, 2.0))\n",
    "    for elem in driver.find_elements_by_tag_name(\"a\"):\n",
    "        link = elem.get_attribute(\"href\")\n",
    "        if not link is None and \"annonces\" in link:\n",
    "            url.append(link)\n",
    "    return url\n",
    "\n",
    "urls = properties_url('https://immoelissa.be/immobilier/?sort=prix-c')\n",
    "print(urls)"
   ]
  },
  {
   "cell_type": "code",
   "execution_count": 121,
   "id": "1ab26e13",
   "metadata": {},
   "outputs": [
    {
     "name": "stdout",
     "output_type": "stream",
     "text": [
      "['https://immoelissa.be/annonces-immobilieres/4295347-rez-de-chaussee-commercial-3/', 'https://immoelissa.be/annonces-immobilieres/4336908-agreable-appartement/', 'https://immoelissa.be/annonces-immobilieres/4345864-agreable-appartement/', 'https://immoelissa.be/annonces-immobilieres/4393872-studio-bien-situe/', 'https://immoelissa.be/annonces-immobilieres/4342411-maison-a-liege/', 'https://immoelissa.be/annonces-immobilieres/4349281-agreable-maison/', 'https://immoelissa.be/annonces-immobilieres/4398654-agreable-appartement/', 'https://immoelissa.be/annonces-immobilieres/4099146-vendu/', 'https://immoelissa.be/annonces-immobilieres/4056078-vendu-en-2-heures-vendu-en-2-heures/']\n",
      "['https://immoelissa.be/annonces-immobilieres/4043951-maison-2-chambres-avec-jardin/', 'https://immoelissa.be/annonces-immobilieres/4455455-agreable-maison/', 'https://immoelissa.be/annonces-immobilieres/4010723-vendu/', 'https://immoelissa.be/annonces-immobilieres/4231794-vendu/', 'https://immoelissa.be/annonces-immobilieres/4045394-maison-3-chambres-avec-jardin/', 'https://immoelissa.be/annonces-immobilieres/4028507-maison-dhabitation-avec-cour/', 'https://immoelissa.be/annonces-immobilieres/4056043-vendu/', 'https://immoelissa.be/annonces-immobilieres/4012708-appartement-2-chambres-avec-vue-panoramique/', 'https://immoelissa.be/annonces-immobilieres/4395314-agreable-appartement/']\n",
      "['https://immoelissa.be/annonces-immobilieres/4076683-maison-a-soumagne/', 'https://immoelissa.be/annonces-immobilieres/4305745-agreable-appartement/', 'https://immoelissa.be/annonces-immobilieres/4012726-vendu/', 'https://immoelissa.be/annonces-immobilieres/4390377-agreable-maison/', 'https://immoelissa.be/annonces-immobilieres/4425478-agreable-maison/', 'https://immoelissa.be/annonces-immobilieres/4277384-agreable-appartement/', 'https://immoelissa.be/annonces-immobilieres/4064623-appartement-a-deux-pas-de-la-mediacite/', 'https://immoelissa.be/annonces-immobilieres/4233705-agreable-maison/', 'https://immoelissa.be/annonces-immobilieres/4136235-agreable-maison-2-chambres/']\n",
      "['https://immoelissa.be/annonces-immobilieres/4417992-maison/', 'https://immoelissa.be/annonces-immobilieres/4429995-agreable-maison/', 'https://immoelissa.be/annonces-immobilieres/4282889-agreable-appartement/', 'https://immoelissa.be/annonces-immobilieres/4013212-vendu/', 'https://immoelissa.be/annonces-immobilieres/4180541-immeuble-mixte/', 'https://immoelissa.be/annonces-immobilieres/4420663-agreable-maison/', 'https://immoelissa.be/annonces-immobilieres/4372580-agreable-appartement/', 'https://immoelissa.be/annonces-immobilieres/4056918-immeuble-mixte-idealement-situe/', 'https://immoelissa.be/annonces-immobilieres/4355249-agreable-appartement/']\n",
      "['https://immoelissa.be/annonces-immobilieres/4250958-agreable-maison/', 'https://immoelissa.be/annonces-immobilieres/4448021-agreable-maison/', 'https://immoelissa.be/annonces-immobilieres/4013227-vendu/', 'https://immoelissa.be/annonces-immobilieres/4306940-agreable-maison/', 'https://immoelissa.be/annonces-immobilieres/4099159-agreable-maison/', 'https://immoelissa.be/annonces-immobilieres/4013222-vendu/', 'https://immoelissa.be/annonces-immobilieres/4324460-agreable-maison/', 'https://immoelissa.be/annonces-immobilieres/4013225-vendu/', 'https://immoelissa.be/annonces-immobilieres/4013233-vendu/']\n",
      "['https://immoelissa.be/annonces-immobilieres/4364845-immeuble-mixte/', 'https://immoelissa.be/annonces-immobilieres/4422336-agreable-appartement/', 'https://immoelissa.be/annonces-immobilieres/4013228-vendu/', 'https://immoelissa.be/annonces-immobilieres/4364840-immeuble-mixte/', 'https://immoelissa.be/annonces-immobilieres/4079205-vendu/', 'https://immoelissa.be/annonces-immobilieres/4364652-agreable-appartement/', 'https://immoelissa.be/annonces-immobilieres/4324502-agreable-maison/', 'https://immoelissa.be/annonces-immobilieres/4141803-maison-3-chambre-avec-jardin-en-excellent-etat/', 'https://immoelissa.be/annonces-immobilieres/4013234-vendu-vendu-vendu/']\n",
      "['https://immoelissa.be/annonces-immobilieres/4345824-agreable-bungalow/', 'https://immoelissa.be/annonces-immobilieres/4448913-agreable-maison/', 'https://immoelissa.be/annonces-immobilieres/4368682-agreable-maison/', 'https://immoelissa.be/annonces-immobilieres/4394534-agreable-maison/', 'https://immoelissa.be/annonces-immobilieres/4432165-agreable-maison/', 'https://immoelissa.be/annonces-immobilieres/4381931-immeuble-de-rapport/', 'https://immoelissa.be/annonces-immobilieres/4290156-appartement-quai-de-rome/', 'https://immoelissa.be/annonces-immobilieres/4013269-entrepot/', 'https://immoelissa.be/annonces-immobilieres/4316269-agreable-penthouse/']\n",
      "['https://immoelissa.be/annonces-immobilieres/4224045-maison-bourgeoise/', 'https://immoelissa.be/annonces-immobilieres/4295299-agreable-bungalow/', 'https://immoelissa.be/annonces-immobilieres/4447025-agreable-maison/', 'https://immoelissa.be/annonces-immobilieres/4013247-ensemble-immobilier/', 'https://immoelissa.be/annonces-immobilieres/4181699-vendu/', 'https://immoelissa.be/annonces-immobilieres/4013248-vendu/', 'https://immoelissa.be/annonces-immobilieres/4155701-immeuble-de-rapport/', 'https://immoelissa.be/annonces-immobilieres/4407705-hangar/', 'https://immoelissa.be/annonces-immobilieres/4370198-immeuble-de-rapport/']\n",
      "['https://immoelissa.be/annonces-immobilieres/4285434-hangar-garage-a-grivegnee/', 'https://immoelissa.be/annonces-immobilieres/4013254-vendu/', 'https://immoelissa.be/annonces-immobilieres/4010174-vendu/', 'https://immoelissa.be/annonces-immobilieres/4518980-maison-de-maitre-bien-coup-de-coeur/', 'https://immoelissa.be/annonces-immobilieres/4519152-maison-de-maitre-bien-coup-de-coeur/', 'https://immoelissa.be/annonces-immobilieres/4223975-vendu/', 'https://immoelissa.be/annonces-immobilieres/4102231-vendu-en-24-heures/', 'https://immoelissa.be/annonces-immobilieres/4010127-maison-2-chambres-avec-jardin/', 'https://immoelissa.be/annonces-immobilieres/4013265-terrain/']\n",
      "['https://immoelissa.be/annonces-immobilieres/4010673-vendu/', 'https://immoelissa.be/annonces-immobilieres/4418991-maison/', 'https://immoelissa.be/annonces-immobilieres/4195116-agreable-maison/', 'https://immoelissa.be/annonces-immobilieres/4010679-terrain/', 'https://immoelissa.be/annonces-immobilieres/4532479-terrain/', 'https://immoelissa.be/annonces-immobilieres/4013268-terrain/', 'https://immoelissa.be/annonces-immobilieres/4449004-studio/', 'https://immoelissa.be/annonces-immobilieres/4282968-agreable-appartement/', 'https://immoelissa.be/annonces-immobilieres/4010688-vendu/']\n",
      "['https://immoelissa.be/annonces-immobilieres/4349297-agreable-maison/']\n",
      "[]\n"
     ]
    }
   ],
   "source": [
    "def readPagination():\n",
    "    \"\"\"\n",
    "    readPagination gathers all pages that contain independent ads. The first one is hardcoded and \n",
    "    aferwards it formats the URL as a string until no new ads are found.\n",
    "    \n",
    "    :return: a list of URLs that link to each page of a search query. \n",
    "    \"\"\"\n",
    "\n",
    "    # initiaze a list for storing all the page URLS\n",
    "    page_urls = []\n",
    "    first_page = 'https://immoelissa.be/immobilier/?sort=prix-c'\n",
    "    page_urls.append(first_page)\n",
    "    \n",
    "    # initialize a list for storing all the seperate links to individual ads.\n",
    "    all_advert_urls = []\n",
    "    advert_urls = []\n",
    "    counter = 2\n",
    "       \n",
    "    advert_urls = properties_url(first_page)\n",
    "    all_advert_urls.extend(advert_urls)\n",
    "    \n",
    "    print(advert_urls)\n",
    "\n",
    "    while advert_urls != []:\n",
    "        url2 = f\"https://immoelissa.be/immobilier/?pg={counter}&sort=prix-c\"\n",
    "        advert_urls = properties_url(url2)\n",
    "        all_advert_urls.extend(advert_urls)\n",
    "        counter += 1\n",
    "        print(advert_urls)\n",
    "        \n",
    "    return all_advert_urls\n",
    "\n",
    "all_advert_urls = readPagination()"
   ]
  },
  {
   "cell_type": "code",
   "execution_count": 123,
   "id": "1e6dae20",
   "metadata": {},
   "outputs": [
    {
     "name": "stdout",
     "output_type": "stream",
     "text": [
      "91\n"
     ]
    }
   ],
   "source": [
    "print(len(all_advert_urls))"
   ]
  },
  {
   "cell_type": "code",
   "execution_count": 127,
   "id": "eeafd730",
   "metadata": {},
   "outputs": [
    {
     "name": "stdout",
     "output_type": "stream",
     "text": [
      "working 0\n",
      "working 1\n",
      "working 2\n",
      "working 3\n",
      "working 4\n",
      "working 5\n",
      "working 6\n",
      "working 7\n",
      "working 8\n",
      "working 9\n",
      "working 10\n",
      "working 11\n",
      "working 12\n",
      "working 13\n",
      "working 14\n",
      "working 15\n",
      "working 16\n",
      "working 17\n",
      "working 18\n",
      "working 19\n",
      "working 20\n",
      "working 21\n",
      "working 22\n",
      "working 23\n",
      "working 24\n",
      "working 25\n",
      "working 26\n",
      "working 27\n",
      "working 28\n",
      "working 29\n",
      "working 30\n",
      "working 31\n",
      "working 32\n",
      "working 33\n",
      "working 34\n",
      "working 35\n",
      "working 36\n",
      "working 37\n",
      "working 38\n",
      "working 39\n",
      "working 40\n",
      "working 41\n",
      "working 42\n",
      "working 43\n",
      "working 44\n",
      "working 45\n",
      "working 46\n",
      "working 47\n",
      "working 48\n",
      "working 49\n",
      "working 50\n",
      "working 51\n",
      "working 52\n",
      "working 53\n",
      "working 54\n",
      "working 55\n",
      "working 56\n",
      "working 57\n",
      "working 58\n",
      "working 59\n",
      "working 60\n",
      "working 61\n",
      "working 62\n",
      "working 63\n",
      "working 64\n",
      "working 65\n",
      "working 66\n",
      "working 67\n",
      "working 68\n",
      "working 69\n",
      "working 70\n",
      "working 71\n",
      "working 72\n",
      "working 73\n",
      "working 74\n",
      "working 75\n",
      "working 76\n",
      "working 77\n",
      "working 78\n",
      "working 79\n",
      "working 80\n",
      "working 81\n",
      "working 82\n",
      "working 83\n",
      "working 84\n",
      "working 85\n",
      "working 86\n",
      "working 87\n",
      "working 88\n",
      "working 89\n",
      "working 90\n",
      "[{'': '4045413', 'Ville': 'Liege', 'Type du bien': 'Commerce', 'Disponibilité': 'Vendu', 'État du bien': 'Bon état', 'Revenu cadastral': '1 311 €', 'Toilette': '1', 'Cave': 'Oui', 'Type de chauffage': 'Gaz'}, {'': '109 000 €', 'Référence': '4226044', 'Ville': 'Liege', 'Type du bien': 'Appartement', 'Disponibilité': 'Vendu', 'État du bien': 'à rafraîchir', 'Année de construction': '1975', 'Revenu cadastral': '696 €', 'Chambres': '1', 'Cuisine': '3.88 m2', 'Toilette': '1', 'Salle de bain': '2.98 m2', 'Cave': 'Oui', 'Totale habitable': '50 m2', 'Living': '26.17 m2', 'Chambre 1': '10.57 m2', 'PEB Label': '', 'PEB Code unique': '20201215016442', 'E-Spec': '160 kWh/m²/an', 'E Total': '9101 kWh/an', 'Emission CO2': '30 Co2', 'Type de chauffage': 'Gaz'}, {'': '109 000 €', 'Référence': '2021367', 'Ville': 'Liege', 'Type du bien': 'Appartement', 'Disponibilité': 'Vendu', 'État du bien': 'à rafraîchir', 'Année de construction': '1967', 'Revenu cadastral': '765 €', 'Chambres': '1', 'Cuisine': '6.15 m2', 'Toilette': '1', 'Cave': 'Oui', 'Totale habitable': '50 m2', 'Living': '20.26 m2', 'Chambre 1': '12.44 m2', 'PEB Label': '', 'PEB Code unique': '20210512008398', 'E-Spec': '298 kWh/m²/an', 'E Total': '16601 kWh/an', 'Emission CO2': '59 Co2', 'Type de chauffage': 'Gaz'}, {'': '4337874', 'Ville': 'Liege', 'Type du bien': 'Appartement', 'Disponibilité': 'Vendu', 'État du bien': 'Bon état', 'Revenu cadastral': '431 €', 'Chambres': '1', 'Cuisine': '4.1 m2', 'Toilette': '1', 'Salle de bain': '1', 'Cave': 'Oui', 'Totale habitable': '30 m2', 'Living': '16.12 m2', 'PEB Label': '', 'PEB Code unique': '20201008013343', 'E-Spec': '142 kWh/m²/an', 'E Total': '4748 kWh/an', 'Emission CO2': '26 Co2', 'Type de chauffage': 'Gaz'}, {'': '109 000 €', 'Référence': '4076658', 'Ville': 'Liege', 'Type du bien': 'Maison', 'Disponibilité': 'Vendu', 'État du bien': 'Bon état', 'Revenu cadastral': '270 €', 'Chambres': '2', 'Cuisine': '1', 'Toilette': '1', 'Salle de bain': '1', 'Cave': 'Oui', 'Jardin': '35 m2', 'Totale habitable': '53 m2', 'Terrain': '30 m2', 'Living': '17.55 m2', 'Chambre 1': '10.93 m2', 'Chambre 2': '16.96 m2', 'PEB Label': '', 'PEB Code unique': '20171102000146', 'E-Spec': '163 kWh/m²/an', 'E Total': '11317 kWh/an', 'Emission CO2': '30 Co2', 'Type de chauffage': 'Gaz (chau. centr.)'}, {'': '109 000 €', 'Référence': '2021364', 'Ville': 'Seraing', 'Type du bien': 'Maison', 'Disponibilité': 'À vendre', 'État du bien': 'Bon état', 'Revenu cadastral': '183 €', 'Chambres': '1', 'Cuisine': '5.35 m2', 'Toilette': '1', 'Salle de bain': '1', 'Cave': 'Oui', 'Totale habitable': '63 m2', 'Terrain': '70 m2', 'Living': '17.69 m2', 'Chambre 1': '20.98 m2', 'PEB Label': '', 'PEB Code unique': '20210406011043', 'E-Spec': '657 kWh/m²/an', 'E Total': '35608 kWh/an', 'Emission CO2': '14 Co2', 'Type de chauffage': 'Electrique'}, {'': '115 000 €', 'Référence': '2021383', 'Ville': 'Liege', 'Type du bien': 'Appartement', 'Disponibilité': 'Vendu', 'État du bien': 'Bon état', 'Année de construction': '1973', 'Revenu cadastral': '686 €', 'Chambres': '1', 'Cuisine': '4.9 m2', 'Toilette': '1', 'Salle de bain': '3.79 m2', 'Cave': 'Oui', 'Totale habitable': '54 m2', 'Living': '20.66 m2', 'Chambre 1': '12.17 m2', 'PEB Label': '', 'PEB Code unique': '20210629025635', 'E-Spec': '153 kWh/m²/an', 'E Total': '8670 kWh/an', 'Emission CO2': '29 Co2', 'Type de chauffage': 'Gaz'}, {'': '2020320', 'Ville': 'Liege', 'Type du bien': 'Appartement', 'Disponibilité': 'Vendu', 'État du bien': 'Bon état', 'Année de construction': '1969', 'Revenu cadastral': '832 €', 'Chambres': '1', 'Cuisine': '4.76 m2', 'Toilette': '1', 'Salle de bain': '3 m2', 'Cave': 'Oui', 'Totale habitable': '57 m2', 'Living': '24.96 m2', 'Chambre 1': '15.01 m2', 'PEB Label': '', 'PEB Code unique': '20200915021984', 'E-Spec': '158 kWh/m²/an', 'E Total': '10932 kWh/an', 'Emission CO2': '33 Co2', 'Type de chauffage': 'Gaz'}, {'': '119 000 €', 'Référence': '2020311', 'Ville': 'Seraing', 'Type du bien': 'Maison', 'Disponibilité': 'Vendu', 'État du bien': 'à rénover', 'Année de construction': '1936', 'Revenu cadastral': '413 €', 'Chambres': '2', 'Cuisine': '12.55 m2', 'Toilette': '1', 'Salle de bain': '1', 'Cave': 'Oui', 'Jardin': '72 m2', 'Totale habitable': '90 m2', 'Terrain': '138 m2', 'Living': '14.19 m2', 'Chambre 1': '12.64 m2', 'Chambre 2': '13.11 m2', 'PEB Label': '', 'PEB Code unique': '20200621018695', 'E-Spec': '349 kWh/m²/an', 'E Total': '35484 kWh/an', 'Emission CO2': '85 Co2', 'Type de chauffage': 'Poêle à mazout'}, {'': '119 000 €', 'Référence': '2020303', 'Ville': 'Waremme', 'Type du bien': 'Maison', 'Disponibilité': 'Vendu', 'État du bien': 'à rafraîchir', 'Revenu cadastral': '567 €', 'Chambres': '2', 'Cuisine': '6.09 m2', 'Toilette': '2', 'Salle de bain': '1', 'Terrasse': '1', 'Cave': 'Oui', 'Jardin': 'Oui', 'Totale habitable': '102 m2', 'Living': '22.62 m2', 'Chambre 1': '10.29 m2', 'Chambre 2': '15.87 m2', 'PEB Label': '', 'PEB Code unique': '20200603014827', 'E-Spec': '419 kWh/m²/an', 'E Total': '42010 kWh/an', 'Emission CO2': '105 Co2', 'Type de chauffage': 'Mazout (chauf. centr.)'}, {'': '119 000 €', 'Référence': '2021394', 'Ville': 'Verviers', 'Type du bien': 'Maison', 'Disponibilité': 'Vendu', 'État du bien': 'à rénover', 'Revenu cadastral': '323 €', 'Chambres': '5', 'Toilette': '1', 'Cave': 'Oui', 'Totale habitable': '190 m2', 'Living': '22.36 m2', 'Cuisine': '14.74 m2', 'Chambre 1': '22.36 m2', 'Chambre 2': '14.74 m2', 'Chambre 3': '16.83 m2', 'Chambre 4': '14.74 m2', 'Chambre 5': '19.48 m2', 'PEB Label': '', 'PEB Code unique': '20170622006787', 'E-Spec': '384 kWh/m²/an', 'E Total': '80926 kWh/an', 'Emission CO2': '95 Co2', 'Type de chauffage': 'Pas installé'}, {'': '125 000 €', 'Référence': '2019273', 'Ville': 'Liège', 'Type du bien': 'Appartement', 'Disponibilité': 'Vendu', 'État du bien': 'à rafraîchir', 'Année de construction': '1967', 'Revenu cadastral': '825 €', 'Chambres': '1', 'Cuisine': '8 m2', 'Toilette': '1', 'Salle de bain': '1', 'Terrasse': '9.86 m2', 'Totale habitable': '87 m2', 'Living': '24.61 m2', 'Chambre 1': '12.44 m2', 'PEB Label': '', 'PEB Code unique': '44571', 'E-Spec': '645 kWh/m²/an', 'Emission CO2': '118 Co2', 'Type de chauffage': 'Gaz'}, {'': '129 000 €', 'Référence': '2020347', 'Ville': 'Liege', 'Type du bien': 'Appartement', 'Disponibilité': 'Vendu', 'État du bien': 'Bon état', 'Année de construction': '1966', 'Revenu cadastral': '761 €', 'Chambres': '1', 'Cuisine': '5.41 m2', 'Toilette': '1', 'Salle de bain': '4.26 m2', 'Cave': 'Oui', 'Totale habitable': '50 m2', 'Living': '20.93 m2', 'Chambre 1': '14.12 m2', 'PEB Label': '', 'PEB Code unique': '20150531008157', 'E-Spec': '338 kWh/m²/an', 'E Total': '16891 kWh/an', 'Emission CO2': '62 Co2'}, {'': '2020302', 'Ville': 'Seraing', 'Type du bien': 'Maison', 'Disponibilité': 'Vendu', 'État du bien': 'à rafraîchir', 'Revenu cadastral': '257 €', 'Chambres': '3', 'Cuisine': '20 m2', 'Toilette': '1', 'Salle de bain': '1', 'Terrasse': '1', 'Cave': 'Oui', 'Jardin': '66 m2', 'Totale habitable': '120 m2', 'Living': '35.61 m2', 'Chambre 1': '13.75 m2', 'Chambre 2': '15.96 m2', 'Chambre 3': '18.71 m2', 'PEB Label': '', 'PEB Code unique': '20200605006000', 'E-Spec': '258 kWh/m²/an', 'E Total': '39094 kWh/an', 'Emission CO2': '9 Co2', 'Type de chauffage': 'Gaz'}, {'': '135 000 €', 'Référence': '2020304', 'Ville': 'Liège Chênée', 'Type du bien': 'Maison', 'Disponibilité': 'Vendu', 'État du bien': 'à rafraîchir', 'Revenu cadastral': '396 €', 'Chambres': '2', 'Cuisine': '17.56 m2', 'Toilette': '2', 'Salle de bain': '1', 'Terrasse': '16 m2', 'Cave': 'Oui', 'Totale habitable': '100 m2', 'Living': '15.77 m2', 'Chambre 1': '13.39 m2', 'Chambre 2': '29.42 m2', 'PEB Label': '', 'PEB Code unique': '20120813030951', 'E-Spec': '496 kWh/m²/an', 'E Total': '55212 kWh/an', 'Emission CO2': '96 Co2', 'Type de chauffage': 'Gaz'}, {'': '139 000 €', 'Référence': '2020310', 'Ville': 'Liege', 'Type du bien': 'Appartement', 'Disponibilité': 'Vendu', 'État du bien': 'à rafraîchir', 'Revenu cadastral': '981 €', 'Chambres': '2', 'Cuisine': '8.37 m2', 'Toilette': '1', 'Salle de bain': '3.63 m2', 'Cave': 'Oui', 'Totale habitable': '98 m2', 'Living': '25.58 m2', 'Chambre 1': '10.03 m2', 'Chambre 2': '14.41 m2', 'PEB Label': '', 'PEB Code unique': '20200621013766', 'E-Spec': '168 kWh/m²/an', 'E Total': '17541 kWh/an', 'Emission CO2': '31 Co2', 'Type de chauffage': 'Mazout (chauf. centr.)'}, {'': '139 000 €', 'Référence': '2019269', 'Ville': 'Liège', 'Type du bien': 'Appartement', 'Disponibilité': 'Vendu', 'État du bien': 'à rénover', 'Revenu cadastral': '1 216 €', 'Chambres': '2', 'Cuisine': '11.2 m2', 'Toilette': '1', 'Salle de bain': '3.92 m2', 'Cave': 'Oui', 'Totale habitable': '89 m2', 'Living': '26.71 m2', 'Chambre 1': '14.46 m2', 'Chambre 2': '19.89 m2', 'PEB Label': '', 'PEB Code unique': '20191115010172', 'E-Spec': '305 kWh/m²/an', 'E Total': '29615 kWh/an', 'Emission CO2': '77 Co2', 'Type de chauffage': 'Gaz'}, {'Prix': '139 000 €', 'Référence': '2021382', 'Ville': 'Liege', 'Type du bien': 'Appartement', 'Disponibilité': 'Vendu', 'État du bien': 'à rafraîchir', 'Année de construction': '1962', 'Revenu cadastral': '1 003 €', 'Chambres': '2', 'Cuisine': '9.93 m2', 'Toilette': '1', 'Salle de bain': '4.8 m2', 'Terrasse': '5.11 m2', 'Cave': 'Oui', 'Totale habitable': '80 m2', 'Living': '26.04 m2', 'Chambre 1': '10.82 m2', 'Chambre 2': '13.73 m2', 'PEB Label': '', 'PEB Code unique': '20210705013921', 'E-Spec': '186 kWh/m²/an', 'E Total': '15875 kWh/an', 'Emission CO2': '38 Co2', 'Type de chauffage': 'Gaz'}, {'': '139 000 €', 'Référence': '2020314', 'Ville': 'Soumagne', 'Type du bien': 'Maison', 'Disponibilité': 'Vendu', 'État du bien': 'Bon état', 'Année de construction': '2005', 'Revenu cadastral': '213 €', 'Chambres': '1', 'Cuisine': '9.67 m2', 'Toilette': '1', 'Salle de bain': '1', 'Terrasse': '11.55 m2', 'Jardin': '13.49 m2', 'Totale habitable': '92 m2', 'Terrain': '95 m2', 'Living': '19.64 m2', 'Chambre 1': '16.93 m2', 'PEB Label': '', 'PEB Code unique': '20140207009215', 'E-Spec': '529 kWh/m²/an', 'E Total': '51758 kWh/an', 'Emission CO2': '151 Co2', 'Type de chauffage': 'Electrique'}, {'': '149 000 €', 'Référence': '2021359', 'Ville': 'Seraing', 'Type du bien': 'Appartement', 'Disponibilité': 'Vendu', 'État du bien': 'Bon état', 'Revenu cadastral': '1 031 €', 'Chambres': '3', 'Cuisine': '9.76 m2', 'Toilette': '1', 'Salle de bain': '1', 'Garage': '1', 'Terrasse': '7.81 m2', 'Cave': 'Oui', 'Totale habitable': '107 m2', 'Living': '36.01 m2', 'Chambre 1': '12.76 m2', 'Chambre 2': '9.26 m2', 'Chambre 3': '8.94 m2', 'PEB Label': '', 'PEB Code unique': '20131007022216', 'E-Spec': '421 kWh/m²/an', 'E Total': '51508 kWh/an', 'Emission CO2': '120 Co2', 'Type de chauffage': 'Electrique'}, {'': '149 000 €', 'Référence': '2019282', 'Ville': 'Seraing', 'Type du bien': 'Maison', 'Disponibilité': 'Vendu', 'État du bien': 'à rafraîchir', 'Revenu cadastral': '530 €', 'Chambres': '3', 'Cuisine': '17.89 m2', 'Toilette': '2', 'Salle de bain': '1', 'Cave': 'Oui', 'Jardin': '60 m2', 'Totale habitable': '110 m2', 'Living': '14.22 m2', 'Salle à manger': '12.63 m2', 'Chambre 1': '19.9 m2', 'Chambre 2': '12.74 m2', 'Chambre 3': '14.42 m2', 'PEB Label': '', 'PEB Code unique': '20191204014528', 'E-Spec': '281 kWh/m²/an', 'E Total': '43620 kWh/an', 'Emission CO2': '51 Co2', 'Type de chauffage': 'Gaz'}, {'': '149 000 €', 'Référence': '2021379', 'Ville': 'Liege', 'Type du bien': 'Maison', 'Disponibilité': 'Vendu', 'État du bien': 'à rafraîchir', 'Revenu cadastral': '597 €', 'Chambres': '3', 'Cuisine': '15.32 m2', 'Toilette': '2', 'Salle de bain': '2', 'Terrasse': '15 m2', 'Totale habitable': '155 m2', 'Terrain': '80 m2', 'Living': '19.38 m2', 'Salle à manger': '14.59 m2', 'Chambre 1': '4.95 m2', 'Chambre 2': '17.85 m2', 'Chambre 3': '18.83 m2', 'PEB Label': '', 'PEB Code unique': '20210702014084', 'E-Spec': '446 kWh/m²/an', 'E Total': '35469 kWh/an', 'Emission CO2': '81 Co2', 'Type de chauffage': 'Gaz'}, {'': '4390377', 'Ville': 'Liege', 'Type du bien': 'Maison', 'Disponibilité': 'Vendu', 'État du bien': 'à rafraîchir', 'Revenu cadastral': '597 €', 'Chambres': '3', 'Cuisine': '15.32 m2', 'Toilette': '2', 'Salle de bain': '2', 'Terrasse': '15 m2', 'Totale habitable': '155 m2', 'Terrain': '80 m2', 'Living': '19.38 m2', 'Salle à manger': '14.59 m2', 'Chambre 1': '4.95 m2', 'Chambre 2': '17.85 m2', 'Chambre 3': '18.83 m2', 'PEB Label': '', 'PEB Code unique': '20210702014084', 'E-Spec': '446 kWh/m²/an', 'E Total': '35469 kWh/an', 'Emission CO2': '81 Co2', 'Type de chauffage': 'Gaz'}, {'': '2021352', 'Ville': 'Liège', 'Type du bien': 'Appartement', 'Disponibilité': 'Vendu', 'État du bien': 'à rafraîchir', 'Année de construction': '1975', 'Revenu cadastral': '1 032 €', 'Chambres': '2', 'Cuisine': '10.2 m2', 'Toilette': '1', 'Salle de bain': '3.71 m2', 'Garage': '1', 'Terrasse': '9.66 m2', 'Parking': '1', 'Cave': 'Oui', 'Totale habitable': '80 m2', 'Living': '27.32 m2', 'Chambre 1': '14.59 m2', 'Chambre 2': '11.37 m2', 'PEB Label': '', 'PEB Code unique': '20180208018510', 'E-Spec': '201 kWh/m²/an', 'E Total': '18299 kWh/an', 'Emission CO2': '50 Co2', 'Type de chauffage': 'Gaz'}, {'': '159 000 €', 'Référence': '2020309', 'Ville': 'Liège', 'Type du bien': 'Appartement', 'Disponibilité': 'Vendu', 'État du bien': 'Bon état', 'Année de construction': '1966', 'Revenu cadastral': '894 €', 'Chambres': '2', 'Cuisine': '8.15 m2', 'Toilette': '1', 'Salle de bain': '3.24 m2', 'Totale habitable': '94 m2', 'Living': '29.46 m2', 'Chambre 1': '16.54 m2', 'Chambre 2': '9.33 m2', 'PEB Label': '', 'PEB Code unique': '20200630024031', 'E-Spec': '276 kWh/m²/an', 'E Total': '25170 kWh/an', 'Emission CO2': '51 Co2', 'Type de chauffage': 'Gaz'}, {'Prix': '159 000 €', 'Référence': '2020348', 'Ville': 'Liege', 'Type du bien': 'Maison', 'Disponibilité': 'Vendu', 'Chambres': '4', 'Toilette': '2', 'Salle de bain': '1', 'Terrasse': '16 m2', 'Cave': 'Oui', 'Totale habitable': '140 m2', 'Living': '14.8 m2', 'Salle à manger': '12.61 m2', 'Cuisine': '10.37 m2', 'Chambre 1': '20.06 m2', 'Chambre 2': '12.7 m2', 'Chambre 3': '19.93 m2', 'Chambre 4': '12.68 m2', 'PEB Label': '', 'PEB Code unique': '20210113019027', 'E-Spec': '431 kWh/m²/an', 'E Total': '68901 kWh/an', 'Emission CO2': '82 Co2', 'Type de chauffage': 'Gaz'}, {'': '2020238', 'Ville': 'Seraing Ougrée', 'Type du bien': 'Maison', 'Disponibilité': 'Vendu', 'État du bien': 'Bon état', 'Revenu cadastral': '745 €', 'Chambres': '2', 'Cuisine': '12.05 m2', 'Toilette': '1', 'Salle de bain': '1', 'Jardin': '328 m2', 'Totale habitable': '98 m2', 'Terrain': '426 m2', 'Living': '24.9 m2', 'Chambre 1': '13.9 m2', 'Chambre 2': '15.01 m2', 'PEB Label': '', 'PEB Code unique': '20200821016162', 'E-Spec': '491 kWh/m²/an', 'E Total': '50171 kWh/an', 'Emission CO2': '93 Co2', 'Type de chauffage': 'Gaz (chau. centr.)'}, {'': '159 000 €', 'Référence': '4403019', 'Ville': 'Grace-Hollogne', 'Type du bien': 'Maison', 'Disponibilité': 'À vendre', 'État du bien': 'Bon état', 'Année de construction': '1953', 'Revenu cadastral': '825 €', 'Chambres': '2', 'Toilette': '2', 'Salle de bain': '1', 'Cave': 'Oui', 'Totale habitable': '80 m2', 'Terrain': '87 m2', 'Chambre 1': '17.89 m2', 'Chambre 2': '22.38 m2', 'Type de chauffage': 'Gaz'}, {'Prix': '159 000 €', 'Référence': '2021389', 'Ville': 'Liege', 'Type du bien': 'Maison', 'Disponibilité': 'À vendre', 'État du bien': 'à rafraîchir', 'Revenu cadastral': '280 €', 'Chambres': '3', 'Cuisine': '20.2 m2', 'Toilette': '2', 'Salle de bain': '1', 'Cave': 'Oui', 'Totale habitable': '62 m2', 'Terrain': '55 m2', 'Chambre 1': '8.08 m2', 'Chambre 2': '11.04 m2', 'Chambre 3': '8.85 m2', 'PEB Label': '', 'PEB Code unique': '20120203027474', 'E-Spec': '579 kWh/m²/an', 'E Total': '51424 kWh/an', 'Emission CO2': '11 Co2', 'Type de chauffage': 'Gaz'}, {'': '165 000 €', 'Référence': '2021355', 'Ville': 'Liege', 'Type du bien': 'Appartement', 'Disponibilité': 'Vendu', 'État du bien': 'Bon état', 'Année de construction': '1992', 'Revenu cadastral': '820 €', 'Chambres': '2', 'Cuisine': '7.59 m2', 'Toilette': '1', 'Salle de bain': '4.83 m2', 'Totale habitable': '71 m2', 'Living': '27.61 m2', 'Chambre 1': '10.2 m2', 'Chambre 2': '14.83 m2', 'PEB Label': '', 'PEB Code unique': '20200909018937', 'E-Spec': '399 kWh/m²/an', 'E Total': '25878 kWh/an', 'Emission CO2': '114 Co2', 'Type de chauffage': 'Electrique'}, {'': '165 000 €', 'Référence': '2020291', 'Ville': 'Grace-Hollogne', 'Type du bien': 'Appartement', 'Disponibilité': 'Vendu', 'État du bien': 'Bon état', 'Revenu cadastral': '745 €', 'Chambres': '3', 'Cuisine': '9.98 m2', 'Toilette': '1', 'Salle de bain': '1', 'Garage': '1', 'Cave': 'Oui', 'Totale habitable': '87 m2', 'Living': '21.36 m2', 'Chambre 1': '16.69 m2', 'Chambre 2': '17.76 m2', 'Chambre 3': '9.05 m2', 'PEB Label': '', 'PEB Code unique': '20200221023366', 'E-Spec': '220 kWh/m²/an', 'E Total': '23717 kWh/an', 'Emission CO2': '40 Co2', 'Type de chauffage': 'Gaz (chau. centr.)'}, {'Prix': '165 000 €', 'Référence': '4013216', 'Ville': 'Liège', 'Type du bien': 'Maison', 'Disponibilité': 'Vendu', 'État du bien': 'Bon état', 'Revenu cadastral': '1 470 €', 'Chambres': '3', 'Cuisine': '23.52 m2', 'Toilette': '2', 'Salle de bain': '1', 'Terrasse': '20 m2', 'Cave': 'Oui', 'Jardin': '109 m2', 'Totale habitable': '160 m2', 'Living': '15.88 m2', 'Salle à manger': '12.92 m2', 'Chambre 1': '17.63 m2', 'Chambre 2': '12.14 m2', 'PEB Label': '', 'PEB Code unique': '20171121005355', 'E-Spec': '485 kWh/m²/an', 'E Total': '66723 kWh/an', 'Emission CO2': '89 Co2', 'Type de chauffage': 'Gaz'}, {'': '169 000 €', 'Référence': '2021385', 'Ville': 'Seraing Boncelles', 'Type du bien': 'Maison', 'Disponibilité': 'Vendu', 'État du bien': 'à rafraîchir', 'Revenu cadastral': '731 €', 'Chambres': '3', 'Cuisine': '8.2 m2', 'Toilette': '1', 'Salle de bain': '1', 'Garage': '1', 'Terrasse': '7.26 m2', 'Cave': 'Oui', 'Jardin': '100 m2', 'Totale habitable': '90 m2', 'Living': '23.78 m2', 'Chambre 1': '13.67 m2', 'Chambre 2': '9.49 m2', 'Chambre 3': '8.32 m2', 'PEB Label': '', 'PEB Code unique': '20210707015142', 'E-Spec': '544 kWh/m²/an', 'E Total': '53946 kWh/an', 'Emission CO2': '136 Co2', 'Type de chauffage': 'Mazout (chauf. centr.)'}, {'': '175 000 €', 'Référence': '2021375', 'Ville': 'Liege', 'Type du bien': 'Appartement', 'Disponibilité': 'Vendu', 'État du bien': 'Bon état', 'Année de construction': '1967', 'Revenu cadastral': '1 201 €', 'Chambres': '2', 'Cuisine': '10.72 m2', 'Toilette': '2', 'Salle de bain': '1', 'Cave': 'Oui', 'Totale habitable': '91 m2', 'Living': '21.33 m2', 'Chambre 1': '15.87 m2', 'Chambre 2': '11.49 m2', 'PEB Label': '', 'PEB Code unique': '20140212020622', 'E-Spec': '859 kWh/m²/an', 'E Total': '76941 kWh/an', 'Emission CO2': '156 Co2', 'Type de chauffage': 'Gaz (chau. centr.)'}, {'': '175 000 €', 'Référence': '2020305', 'Ville': 'Liege', 'Type du bien': 'Maison', 'Disponibilité': 'Vendu', 'Revenu cadastral': '1 712 €', 'Chambres': '2', 'Cuisine': '6.77 m2', 'Toilette': '2', 'Salle de bain': '1', 'Cave': 'Oui', 'Totale habitable': '150 m2', 'Terrain': '125 m2', 'Living': '24.56 m2', 'Chambre 1': '15.73 m2', 'Chambre 2': '9.97 m2', 'PEB Label': '', 'PEB Code unique': '20200605008040', 'E-Spec': '448 kWh/m²/an', 'E Total': '46345 kWh/an', 'Emission CO2': '82 Co2', 'Type de chauffage': 'Gaz (chau. centr.)'}, {'': '179 000 €', 'Référence': '2021370', 'Ville': 'Liege', 'Type du bien': 'Appartement', 'Disponibilité': 'Vendu', 'État du bien': 'Remis à neuf', 'Année de construction': '2007', 'Revenu cadastral': '743 €', 'Chambres': '2', 'Cuisine': '8.69 m2', 'Toilette': '2', 'Salle de bain': '5.85 m2', 'Totale habitable': '95 m2', 'Living': '22.92 m2', 'Chambre 1': '15.71 m2', 'Chambre 2': '7.18 m2', 'PEB Label': '', 'PEB Code unique': '20190828012704', 'E-Spec': '533 kWh/m²/an', 'E Total': '57911 kWh/an', 'Emission CO2': '98 Co2', 'Type de chauffage': 'Gaz'}, {'': '179 000 €', 'Référence': '2020349', 'Ville': 'Liege', 'Type du bien': 'Maison', 'Disponibilité': 'Vendu', 'État du bien': 'Bon état', 'Année de construction': '1959', 'Revenu cadastral': '743 €', 'Chambres': '2', 'Cuisine': '7.64 m2', 'Toilette': '1', 'Salle de bain': '1', 'Garage': '1', 'Terrasse': '30 m2', 'Cave': 'Oui', 'Totale habitable': '100 m2', 'Terrain': '82 m2', 'Living': '20.02 m2', 'Chambre 1': '12.05 m2', 'Chambre 2': '15.49 m2', 'PEB Label': '', 'PEB Code unique': '20210129011341', 'E-Spec': '418 kWh/m²/an', 'E Total': '32023 kWh/an', 'Emission CO2': '77 Co2', 'Type de chauffage': 'Gaz'}, {'': '179 000 €', 'Référence': '4374573', 'Ville': 'Liege', 'Type du bien': 'Maison', 'Disponibilité': 'Vendu', 'État du bien': 'à rénover', 'Revenu cadastral': '1 093 €', 'Chambres': '3', 'Cuisine': '14.79 m2', 'Toilette': '1', 'Salle de bain': '2', 'Cave': 'Oui', 'Jardin': '110 m2', 'Totale habitable': '186 m2', 'Terrain': '199 m2', 'Living': '18.77 m2', 'Salle à manger': '15.7 m2', 'Chambre 1': '20.84 m2', 'Chambre 2': '15.84 m2', 'Chambre 3': '19.69 m2', 'PEB Label': '', 'PEB Code unique': '20210613008330', 'E-Spec': '439 kWh/m²/an', 'E Total': '94160 kWh/an', 'Emission CO2': '80 Co2', 'Type de chauffage': 'Gaz'}, {'': '2020292', 'Ville': 'Liège Wandre', 'Type du bien': 'Industriel', 'Disponibilité': 'Vendu', 'État du bien': 'Bon état', 'Revenu cadastral': '1 199 €', 'Cuisine': '1', 'Toilette': '1', 'Cave': 'Oui', 'Type de chauffage': 'Gaz (chau. centr.)'}, {'': '185 000 €', 'Référence': '2021361', 'Ville': 'Seraing', 'Type du bien': 'Maison', 'Disponibilité': 'Vendu', 'État du bien': 'à rafraîchir', 'Année de construction': '1947', 'Revenu cadastral': '1 127 €', 'Chambres': '3', 'Cuisine': '10.39 m2', 'Toilette': '2', 'Salle de bain': '1', 'Terrasse': '1', 'Jardin': '110 m2', 'Totale habitable': '238 m2', 'Terrain': '217 m2', 'Living': '37.48 m2', 'Chambre 1': '17.29 m2', 'Chambre 2': '19.14 m2', 'Chambre 3': '26.5 m2', 'PEB Label': '', 'PEB Code unique': '20210322008003', 'E-Spec': '235 kWh/m²/an', 'E Total': '58855 kWh/an', 'Emission CO2': '43 Co2', 'Type de chauffage': 'Gaz'}, {'': '189 000 €', 'Référence': '2020321', 'Ville': 'Waremme', 'Type du bien': 'Maison', 'Disponibilité': 'Vendu', 'État du bien': 'à rafraîchir', 'Revenu cadastral': '828 €', 'Chambres': '4', 'Cuisine': '14.7 m2', 'Toilette': '2', 'Salle de bain': '1', 'Garage': '1', 'Terrasse': '20 m2', 'Cave': 'Oui', 'Jardin': '370 m2', 'Totale habitable': '165 m2', 'Terrain': '546 m2', 'Living': '14.06 m2', 'Salle à manger': '12.66 m2', 'Chambre 1': '14.21 m2', 'Chambre 2': '12.67 m2', 'Chambre 3': '9.01 m2', 'Chambre 4': '6.99 m2', 'PEB Label': '', 'PEB Code unique': '20200907015902', 'E-Spec': '548 kWh/m²/an', 'E Total': '62261 kWh/an', 'Emission CO2': '114 Co2', 'Type de chauffage': 'Mazout (chauf. centr.)'}, {'': '189 000 €', 'Référence': '2019284', 'Ville': 'Grâce-Hollogne', 'Type du bien': 'Maison', 'Disponibilité': 'Vendu', 'État du bien': 'à rafraîchir', 'Revenu cadastral': '778 €', 'Chambres': '2', 'Cuisine': '6 m2', 'Toilette': '1', 'Salle de bain': '1', 'Garage': '1', 'Terrasse': '42 m2', 'Cave': 'Oui', 'Jardin': '750 m2', 'Totale habitable': '78 m2', 'Terrain': '867 m2', 'Living': '27.71 m2', 'Salle à manger': '9.42 m2', 'Chambre 1': '15.86 m2', 'Chambre 2': '9.91 m2', 'PEB Label': '', 'PEB Code unique': '20151012010693', 'E-Spec': '467 kWh/m²/an', 'E Total': '76658 kWh/an', 'Emission CO2': '85 Co2', 'Type de chauffage': 'Gaz (chau. centr.)'}, {'': '2021356', 'Ville': 'Liege', 'Type du bien': 'Maison', 'Disponibilité': 'Vendu', 'État du bien': 'à rafraîchir', 'Revenu cadastral': '919 €', 'Chambres': '3', 'Cuisine': '10.39 m2', 'Toilette': '2', 'Salle de bain': '1', 'Garage': '1', 'Cave': 'Oui', 'Jardin': '443 m2', 'Totale habitable': '150 m2', 'Terrain': '553 m2', 'Living': '14.81 m2', 'Salle à manger': '14.09 m2', 'Chambre 1': '20.66 m2', 'Chambre 2': '12.93 m2', 'Chambre 3': '25.6 m2', 'PEB Label': '', 'PEB Code unique': '20140211017743', 'E-Spec': '553 kWh/m²/an', 'E Total': '104337 kWh/an', 'Emission CO2': '101 Co2', 'Type de chauffage': 'Gaz'}, {'': '195 000 €', 'Référence': '2019280', 'Ville': 'Flémalle', 'Type du bien': 'Immeuble de rapport', 'Disponibilité': 'Vendu', 'État du bien': 'Bon état', 'Revenu cadastral': '560 €', 'Chambres': '4', 'Cuisine': '4.63 m2', 'Toilette': '2', 'Salle de bain': '2', 'Cave': 'Oui', 'Totale habitable': '159 m2', 'Living': '25.21 m2', 'Chambre 1': '12.34 m2', 'Chambre 2': '11.68 m2', 'Chambre 3': '9.87 m2', 'Chambre 4': '21.67 m2', 'PEB Label': '', 'PEB Code unique': '20191127025172', 'E-Spec': '218 kWh/m²/an', 'E Total': '24481 kWh/an', 'Emission CO2': '40 Co2', 'Type de chauffage': 'Gaz (chau. centr.)'}, {'': '199 000 €', 'Référence': '2019281', 'Ville': 'Liège', 'Type du bien': 'Appartement', 'Disponibilité': 'Vendu', 'État du bien': 'Bon état', 'Année de construction': '1971', 'Revenu cadastral': '1 125 €', 'Chambres': '2', 'Cuisine': '12.51 m2', 'Toilette': '2', 'Salle de bain': '3.97 m2', 'Terrasse': '6.79 m2', 'Parking': '1', 'Cave': 'Oui', 'Totale habitable': '126 m2', 'Living': '49 m2', 'Chambre 1': '10.32 m2', 'Chambre 2': '10.28 m2', 'PEB Label': '', 'PEB Code unique': '20140222002973', 'E-Spec': '218 kWh/m²/an', 'E Total': '26633 kWh/an', 'Emission CO2': '40 Co2', 'Type de chauffage': 'Gaz'}, {'': '199 000 €', 'Référence': '4364840', 'Ville': 'Seraing', 'Type du bien': 'Appartement', 'Disponibilité': 'Vendu', 'État du bien': 'Bon état', 'Année de construction': '1986', 'Revenu cadastral': '1 284 €', 'Chambres': '3', 'Cuisine': '1', 'Toilette': '3', 'Salle de bain': '1', 'Totale habitable': '150 m2', 'Terrain': '74 m2', 'Living': '43.28 m2', 'Chambre 1': '9.11 m2', 'Chambre 2': '15.48 m2', 'Chambre 3': '14.13 m2', 'PEB Label': '', 'PEB Code unique': '20200611019308', 'E-Spec': '265 kWh/m²/an', 'E Total': '32036 kWh/an', 'Emission CO2': '49 Co2', 'Type de chauffage': 'Gaz'}, {'': '199 000 €', 'Référence': '2021388', 'Ville': 'Seraing', 'Type du bien': 'Appartement', 'Disponibilité': 'Vendu', 'État du bien': 'Bon état', 'Revenu cadastral': '837 €', 'Chambres': '2', 'Cuisine': '7.89 m2', 'Toilette': '1', 'Salle de bain': '1', 'Garage': '1', 'Terrasse': '2.59 m2', 'Cave': 'Oui', 'Jardin': '59 m2', 'Totale habitable': '70 m2', 'Living': '26.02 m2', 'Chambre 1': '16.02 m2', 'Chambre 2': '8.08 m2', 'PEB Label': '', 'PEB Code unique': '20120517003432', 'E-Spec': '507 kWh/m²/an', 'Emission CO2': '93 Co2', 'Type de chauffage': 'Gaz'}, {'': '2020286', 'Ville': 'Liège', 'Type du bien': 'Maison', 'Disponibilité': 'Vendu', 'État du bien': 'à rafraîchir', 'Revenu cadastral': '880 €', 'Chambres': '3', 'Cuisine': '15.84 m2', 'Toilette': '1', 'Salle de bain': '1', 'Cave': 'Oui', 'Jardin': '35 m2', 'Totale habitable': '129 m2', 'Living': '15.92 m2', 'Chambre 1': '12.1 m2', 'Chambre 2': '22.05 m2', 'Chambre 3': '16.52 m2', 'PEB Label': '', 'PEB Code unique': '20170208004546', 'E-Spec': '411 kWh/m²/an', 'E Total': '50062 kWh/an', 'Emission CO2': '79 Co2', 'Type de chauffage': 'Gaz'}, {'': '199 000 €', 'Référence': '4273452', 'Ville': 'Seraing', 'Type du bien': 'Maison', 'Disponibilité': 'Vendu', 'État du bien': 'Bon état', 'Année de construction': '1986', 'Revenu cadastral': '1 284 €', 'Chambres': '3', 'Cuisine': '1', 'Toilette': '3', 'Salle de bain': '1', 'Totale habitable': '150 m2', 'Terrain': '74 m2', 'Living': '43.28 m2', 'Chambre 1': '9.11 m2', 'Chambre 2': '15.48 m2', 'Chambre 3': '14.13 m2', 'PEB Label': '', 'PEB Code unique': '20200611019308', 'E-Spec': '265 kWh/m²/an', 'E Total': '32036 kWh/an', 'Emission CO2': '49 Co2', 'Type de chauffage': 'Gaz'}, {'': '209 000 €', 'Référence': '2020316', 'Ville': 'Liège', 'Type du bien': 'Appartement', 'Disponibilité': 'Vendu', 'État du bien': 'Bon état', 'Année de construction': '2006', 'Revenu cadastral': '1 074 €', 'Chambres': '3', 'Cuisine': '8.26 m2', 'Toilette': '2', 'Salle de bain': '1', 'Terrasse': '12.36 m2', 'Cave': 'Oui', 'Totale habitable': '103 m2', 'Living': '34.11 m2', 'Chambre 1': '13.55 m2', 'Chambre 2': '11.97 m2', 'Chambre 3': '7.15 m2', 'PEB Label': '', 'PEB Code unique': '20200703008285', 'E-Spec': '112 kWh/m²/an', 'E Total': '11442 kWh/an', 'Emission CO2': '22 Co2', 'Type de chauffage': 'Gaz'}, {'': '2021372', 'Ville': 'Waremme', 'Type du bien': 'Appartement', 'Disponibilité': 'Vendu', 'État du bien': 'Excellent état', 'Année de construction': '2018', 'Revenu cadastral': '892 €', 'Chambres': '2', 'Cuisine': '1', 'Toilette': '1', 'Salle de bain': '1', 'Terrasse': '6.92 m2', 'Parking': '1', 'Cave': 'Oui', 'Totale habitable': '84 m2', 'Living': '34.61 m2', 'Chambre 1': '12.31 m2', 'Chambre 2': '16.65 m2', 'PEB Label': '', 'PEB Code unique': '20180927010602', 'E-Spec': '74 kWh/m²/an', 'E Total': '6606 kWh/an', 'Emission CO2': '14 Co2', 'Type de chauffage': 'Gaz'}, {'': '209 000 €', 'Référence': '2021360', 'Ville': 'Beyne-Heusay', 'Type du bien': 'Maison', 'Disponibilité': 'Vendu', 'État du bien': 'à rafraîchir', 'Année de construction': '1946', 'Revenu cadastral': '582 €', 'Chambres': '5', 'Cuisine': '11.62 m2', 'Toilette': '3', 'Salle de bain': '1', 'Garage': '1', 'Terrasse': '56 m2', 'Cave': 'Oui', 'Jardin': '260 m2', 'Totale habitable': '302 m2', 'Terrain': '447 m2', 'Living': '19.52 m2', 'Salle à manger': '18.06 m2', 'Chambre 1': '12 m2', 'Chambre 2': '19.52 m2', 'Chambre 3': '16.04 m2', 'Chambre 4': '12.62 m2', 'Chambre 5': '15.81 m2', 'PEB Label': '', 'PEB Code unique': '20140303014212', 'E-Spec': '323 kWh/m²/an', 'E Total': '59597 kWh/an', 'Emission CO2': '59 Co2', 'Type de chauffage': 'Gaz'}, {'': '219 000 €', 'Référence': '2020330', 'Ville': 'Seraing', 'Type du bien': 'Maison', 'Disponibilité': 'Vendu', 'Revenu cadastral': '607 €', 'Chambres': '3', 'Cuisine': '14.64 m2', 'Toilette': '1', 'Salle de bain': '1', 'Terrasse': '24.85 m2', 'Cave': 'Oui', 'Jardin': '52.53 m2', 'Totale habitable': '93 m2', 'Terrain': '144 m2', 'Living': '21.9 m2', 'Chambre 1': '11.94 m2', 'Chambre 2': '11.35 m2', 'Chambre 3': '15.76 m2', 'PEB Label': '', 'PEB Code unique': '20200911018228', 'E-Spec': '184 kWh/m²/an', 'E Total': '26826 kWh/an', 'Emission CO2': '46 Co2', 'Type de chauffage': 'Mazout (chauf. centr.)'}, {'': '229 000 €', 'Référence': '20192672', 'Ville': 'Seraing', 'Type du bien': 'Immeuble de rapport', 'Disponibilité': 'Vendu', 'État du bien': 'à rénover', 'Revenu cadastral': '1 053 €', 'Chambres': '4', 'Cuisine': '1', 'Toilette': '4', 'Salle de bain': '4', 'Garage': '2', 'Terrasse': '4', 'Cave': 'Oui', 'Totale habitable': '172.38 m2', 'Chambre 1': '15.84 m2', 'Chambre 2': '15 m2', 'Chambre 3': '15 m2', 'Chambre 4': '15 m2', 'PEB Label': '', 'PEB Code unique': '20190920005480', 'E-Spec': '324 kWh/m²/an', 'E Total': '14525 kWh/an', 'Emission CO2': '59 Co2', 'Type de chauffage': 'Gaz'}, {'': '249 000 €', 'Référence': '2021368', 'Ville': 'Beyne-Heusay', 'Type du bien': 'Maison', 'Disponibilité': 'Vendu', 'État du bien': 'à rafraîchir', 'Année de construction': '1972', 'Revenu cadastral': '738 €', 'Chambres': '2', 'Cuisine': '8.57 m2', 'Toilette': '1', 'Salle de bain': '1', 'Garage': '1', 'Jardin': '400 m2', 'Totale habitable': '96 m2', 'Terrain': '509 m2', 'Living': '14.35 m2', 'Salle à manger': '10.07 m2', 'Chambre 1': '12.47 m2', 'Chambre 2': '8 m2', 'PEB Label': '', 'PEB Code unique': '20210502004857', 'E-Spec': '434 kWh/m²/an', 'E Total': '46578 kWh/an', 'Emission CO2': '107 Co2', 'Type de chauffage': 'Chaudière'}, {'': '249 000 €', 'Référence': '4374590', 'Ville': 'Liege', 'Type du bien': 'Maison', 'Disponibilité': 'Vendu', 'État du bien': 'à rénover', 'Revenu cadastral': '518 €', 'Chambres': '5', 'Cuisine': '16.07 m2', 'Toilette': '2', 'Salle de bain': '2', 'Cave': 'Oui', 'Jardin': '29 m2', 'Totale habitable': '175 m2', 'Terrain': '75 m2', 'Salle à manger': '16.55 m2', 'Chambre 1': '14.12 m2', 'Chambre 2': '15.95 m2', 'Chambre 3': '14.12 m2', 'Chambre 4': '15.95 m2', 'Chambre 5': '47.04 m2', 'PEB Label': '', 'PEB Code unique': '20210614021536', 'E-Spec': '532 kWh/m²/an', 'E Total': '102856 kWh/an', 'Emission CO2': '97 Co2', 'Type de chauffage': 'Gaz'}, {'': '2021374', 'Ville': 'Ans', 'Type du bien': 'Maison', 'Disponibilité': 'Option', 'État du bien': 'Excellent état', 'Revenu cadastral': '485 €', 'Chambres': '3', 'Cuisine': '12.62 m2', 'Toilette': '2', 'Salle de bain': '2', 'Terrasse': '91 m2', 'Cave': 'Oui', 'Jardin': '100 m2', 'Totale habitable': '135 m2', 'Terrain': '293 m2', 'Living': '12.57 m2', 'Salle à manger': '12.6 m2', 'Chambre 1': '12.66 m2', 'Chambre 2': '12.65 m2', 'Chambre 3': '5.94 m2', 'PEB Label': '', 'PEB Code unique': '20210306000299', 'E-Spec': '404 kWh/m²/an', 'E Total': '50032 kWh/an', 'Emission CO2': '100 Co2', 'Type de chauffage': 'Mazout (chauf. centr.)'}, {'Prix': '265 000 €', 'Référence': '2021381', 'Ville': 'Liege', 'Type du bien': 'Maison', 'Disponibilité': 'Vendu', 'État du bien': 'à rénover', 'Revenu cadastral': '1 187 €', 'Chambres': '4', 'Cuisine': '18.99 m2', 'Toilette': '2', 'Salle de bain': '2', 'Garage': '1', 'Terrasse': '30 m2', 'Cave': 'Oui', 'Jardin': '400 m2', 'Totale habitable': '230 m2', 'Terrain': '486 m2', 'Living': '12.38 m2', 'Salle à manger': '19.51 m2', 'Chambre 1': '19.06 m2', 'Chambre 2': '20.05 m2', 'Chambre 3': '13.93 m2', 'Chambre 4': '20.19 m2', 'PEB Label': '', 'PEB Code unique': '20210712012840', 'E-Spec': '390 kWh/m²/an', 'E Total': '100356 kWh/an', 'Emission CO2': '84 Co2', 'Type de chauffage': 'Gaz'}, {'': '265 000 €', 'Référence': '4394534', 'Ville': 'Liège', 'Type du bien': 'Maison', 'Disponibilité': 'Vendu', 'État du bien': 'à rénover', 'Revenu cadastral': '1 187 €', 'Chambres': '4', 'Cuisine': '18.99 m2', 'Toilette': '2', 'Salle de bain': '2', 'Garage': '1', 'Terrasse': '30 m2', 'Cave': 'Oui', 'Jardin': '400 m2', 'Totale habitable': '230 m2', 'Terrain': '486 m2', 'Living': '12.38 m2', 'Salle à manger': '19.51 m2', 'Chambre 1': '19.06 m2', 'Chambre 2': '20.05 m2', 'Chambre 3': '13.93 m2', 'Chambre 4': '20.19 m2', 'PEB Label': '', 'PEB Code unique': '20210712012840', 'E-Spec': '390 kWh/m²/an', 'E Total': '100356 kWh/an', 'Emission CO2': '84 Co2', 'Type de chauffage': 'Gaz'}, {'': '289 000 €', 'Référence': '2021378', 'Ville': 'Liege', 'Type du bien': 'Immeuble de rapport', 'Disponibilité': 'Vendu', 'État du bien': 'Bon état', 'Revenu cadastral': '1 350 €', 'Chambres': '4', 'Cuisine': '1', 'Toilette': '3', 'Salle de bain': '3', 'Terrasse': '7 m2', 'Cave': 'Oui', 'Totale habitable': '233 m2', 'Terrain': '70 m2', 'Chambre 1': '13.91 m2', 'Chambre 2': '13.88 m2', 'Chambre 3': '14.58 m2', 'Chambre 4': '13.06 m2', 'PEB Label': '', 'PEB Code unique': '20210618012624', 'E-Spec': '144 kWh/m²/an', 'E Total': '11013 kWh/an', 'Emission CO2': '26 Co2', 'Type de chauffage': 'Gaz'}, {'': '295 000 €', 'Référence': '2021357', 'Ville': 'Liege', 'Type du bien': 'Appartement', 'Disponibilité': 'Vendu', 'Année de construction': '1952', 'Revenu cadastral': '1 135 €', 'Chambres': '3', 'Cuisine': '8.68 m2', 'Toilette': '1', 'Salle de bain': '1', 'Terrasse': '2.97 m2', 'Cave': 'Oui', 'Totale habitable': '110 m2', 'Terrain': '171 m2', 'Living': '27.53 m2', 'Chambre 1': '12.5 m2', 'Chambre 2': '10.94 m2', 'Chambre 3': '8.85 m2', 'PEB Label': '', 'PEB Code unique': '20130204012923', 'E-Spec': '341 kWh/m²/an', 'E Total': '36634 kWh/an', 'Emission CO2': '62 Co2', 'Type de chauffage': 'Gaz'}, {'': '295 000 €', 'Référence': '2020297', 'Ville': 'Beyne-Heusay', 'Type du bien': 'Industriel', 'Disponibilité': 'Vendu', 'État du bien': 'à rafraîchir', 'Revenu cadastral': '1 824 €', 'Toilette': '1', 'Garage': '1', 'Parking': '1', 'Totale habitable': '850 m2'}, {'': '299 990 €', 'Référence': '4285429', 'Ville': 'Liege', 'Type du bien': 'Appartement', 'Disponibilité': 'Vendu', 'État du bien': 'Bon état', 'Revenu cadastral': '946 €', 'Chambres': '2', 'Cuisine': '8.83 m2', 'Toilette': '2', 'Salle de bain': '7.38 m2', 'Terrasse': '22 m2', 'Cave': 'Oui', 'Totale habitable': '110 m2', 'Living': '33.07 m2', 'Chambre 1': '17.07 m2', 'Chambre 2': '14.38 m2', 'PEB Label': '', 'PEB Code unique': '20210114001492', 'E-Spec': '265 kWh/m²/an', 'E Total': '35450 kWh/an', 'Emission CO2': '67 Co2', 'Type de chauffage': 'Chaudière'}, {'': '319 000 €', 'Référence': '2021344', 'Ville': 'Liege', 'Type du bien': 'Maison', 'Disponibilité': 'Vendu', 'État du bien': 'Bon état', 'Revenu cadastral': '1 155 €', 'Chambres': '5', 'Cuisine': '8.65 m2', 'Toilette': '4', 'Salle de bain': '2', 'Terrasse': '9 m2', 'Cave': 'Oui', 'Jardin': '176 m2', 'Totale habitable': '222 m2', 'Terrain': '260 m2', 'Living': '15.1 m2', 'Salle à manger': '15.85 m2', 'Chambre 1': '14.61 m2', 'Chambre 2': '15.18 m2', 'Chambre 3': '15.19 m2', 'Chambre 4': '14.93 m2', 'Chambre 5': '13.08 m2', 'PEB Label': '', 'PEB Code unique': '20201130003840', 'E-Spec': '327 kWh/m²/an', 'E Total': '49149 kWh/an', 'Emission CO2': '60 Co2', 'Type de chauffage': 'Gaz'}, {'': '319 000 €', 'Référence': '2021358', 'Ville': 'Juprelle Fexhe-Slins', 'Type du bien': 'Maison', 'Disponibilité': 'Vendu', 'État du bien': 'à rafraîchir', 'Année de construction': '1995', 'Revenu cadastral': '855 €', 'Chambres': '3', 'Cuisine': '10.59 m2', 'Toilette': '1', 'Salle de bain': '1', 'Garage': '1', 'Parking': '1', 'Cave': 'Oui', 'Jardin': '805 m2', 'Totale habitable': '102 m2', 'Terrain': '1085 m2', 'Living': '31.49 m2', 'Chambre 1': '12.71 m2', 'Chambre 2': '9.81 m2', 'Chambre 3': '16.3 m2', 'PEB Label': '', 'PEB Code unique': '20210319006909', 'E-Spec': '566 kWh/m²/an', 'E Total': '60568 kWh/an', 'Emission CO2': '140 Co2', 'Type de chauffage': 'Mazout (chauf. centr.)'}, {'Prix': '320 000 €', 'Référence': '2021391', 'Ville': 'Liège', 'Type du bien': 'Maison', 'Disponibilité': 'Vendu', 'État du bien': 'Excellent état', 'Revenu cadastral': '810 €', 'Chambres': '4', 'Cuisine': '37.83 m2', 'Toilette': '3', 'Salle de bain': '2', 'Terrasse': '39 m2', 'Cave': 'Oui', 'Jardin': '200 m2', 'Totale habitable': '192 m2', 'Terrain': '336 m2', 'Living': '18.26 m2', 'Salle à manger': '15.85 m2', 'Chambre 1': '19.61 m2', 'Chambre 2': '15.95 m2', 'Chambre 3': '23.07 m2', 'Chambre 4': '25.33 m2', 'PEB Label': '', 'PEB Code unique': '20210825007332', 'E-Spec': '181 kWh/m²/an', 'E Total': '49763 kWh/an', 'Emission CO2': '33 Co2', 'Type de chauffage': 'Gaz (chau. centr.)'}, {'': '329 000 €', 'Référence': '2020288', 'Ville': 'Flémalle', 'Type du bien': 'Immeuble de rapport', 'Disponibilité': 'Vendu', 'État du bien': 'à rénover', 'Revenu cadastral': '1 349 €', 'Chambres': '6', 'Cuisine': '1', 'Toilette': '5', 'Salle de bain': '3', 'Garage': '1', 'Cave': 'Oui', 'Jardin': '400 m2', 'Totale habitable': '273 m2', 'Terrain': '638 m2', 'Chambre 1': '12.07 m2', 'Chambre 2': '13.74 m2', 'Chambre 3': '16.13 m2', 'Chambre 4': '12.11 m2', 'Chambre 5': '14.81 m2', 'PEB Label': '', 'PEB Code unique': '20191230001907', 'E-Spec': '389 kWh/m²/an', 'E Total': '78702 kWh/an', 'Emission CO2': '96 Co2', 'Type de chauffage': 'Chaudière'}, {'': '350 000 €', 'Référence': '4102871', 'Ville': 'Esneux', 'Type du bien': 'Maison', 'Disponibilité': 'Vendu', 'État du bien': 'Bon état', 'Année de construction': '1972', 'Revenu cadastral': '1 266 €', 'Chambres': '3', 'Cuisine': '11.06 m2', 'Toilette': '1', 'Salle de bain': '1', 'Garage': '2', 'Terrasse': '1', 'Parking': '1', 'Cave': 'Oui', 'Jardin': '938 m2', 'Totale habitable': '155 m2', 'Terrain': '1101 m2', 'Living': '46.1 m2', 'Chambre 1': '11.14 m2', 'Chambre 2': '17.18 m2', 'Chambre 3': '10.75 m2', 'PEB Label': '', 'PEB Code unique': '20200821008757', 'E-Spec': '453 kWh/m²/an', 'E Total': '75391 kWh/an', 'Emission CO2': '110 Co2', 'Type de chauffage': 'Mazout (chauf. centr.)'}, {'': '375 000 €', 'Référence': '20199256', 'Ville': 'Aywaille', 'Type du bien': 'Maison', 'Disponibilité': 'Vendu', 'État du bien': 'Bon état', 'Année de construction': '1978', 'Revenu cadastral': '1 559 €', 'Chambres': '4', 'Cuisine': '15.32 m2', 'Toilette': '3', 'Salle de bain': '2', 'Garage': '1', 'Terrasse': '113 m2', 'Parking': '1', 'Cave': 'Oui', 'Jardin': '1800 m2', 'Totale habitable': '221 m2', 'Terrain': '1988 m2', 'Living': '39 m2', 'Chambre 1': '15.91 m2', 'Chambre 2': '8.86 m2', 'Chambre 3': '10.6 m2', 'Chambre 4': '13 m2', 'PEB Label': '', 'PEB Code unique': '20181120016594', 'E-Spec': '267 kWh/m²/an', 'E Total': '66771 kWh/an', 'Emission CO2': '52 Co2', 'Type de chauffage': 'Gaz'}, {'': '389 000 €', 'Référence': '2020332', 'Ville': 'Liege', 'Type du bien': 'Immeuble de rapport', 'Disponibilité': 'À vendre', 'État du bien': 'à rafraîchir', 'Année de construction': '1965', 'Revenu cadastral': '2 749 €', 'Chambres': '4', 'Cuisine': '9.02 m2', 'Toilette': '3', 'Salle de bain': '2', 'Garage': '1', 'Totale habitable': '180 m2', 'Terrain': '300 m2', 'Living': '21.89 m2', 'Chambre 1': '18.77 m2', 'Chambre 2': '14.67 m2', 'Chambre 3': '18.77 m2', 'Chambre 4': '14.67 m2', 'PEB Label': '', 'PEB Code unique': '20140410008267', 'E-Spec': '586 kWh/m²/an', 'E Total': '53119 kWh/an', 'Emission CO2': '107 Co2', 'Type de chauffage': 'Gaz'}, {'': '419 000 €', 'Référence': '2021384', 'Ville': 'Herstal', 'Type du bien': 'Industriel', 'Disponibilité': 'Vendu', 'État du bien': 'Neuf', 'Année de construction': '2018', 'Revenu cadastral': '1 169 €', 'Parking': '1'}, {'': '4195136', 'Ville': 'Liège', 'Type du bien': 'Immeuble de rapport', 'Disponibilité': 'À vendre', 'État du bien': 'à rafraîchir', 'Revenu cadastral': '1 719 €', 'Chambres': '5', 'Cuisine': '7.75 m2', 'Toilette': '7', 'Salle de bain': '5', 'Cave': 'Oui', 'Totale habitable': '245 m2', 'Terrain': '168 m2', 'Living': '18.37 m2', 'Chambre 1': '15.71 m2', 'Chambre 2': '12.08 m2', 'Chambre 3': '12.88 m2', 'Chambre 4': '12.28 m2', 'Chambre 5': '21.67 m2', 'PEB Label': '', 'PEB Code unique': '20201117012855', 'E-Spec': '157 kWh/m²/an', 'E Total': '9173 kWh/an', 'Emission CO2': '29 Co2', 'Type de chauffage': 'Gaz'}, {'': '59 000 €', 'Référence': '4076740', 'Ville': 'Liège Grivegnée', 'Type du bien': 'Industriel', 'Disponibilité': 'À vendre', 'État du bien': 'à rafraîchir', 'Revenu cadastral': '138 €', 'Garage': '1'}, {'': '600 000 €', 'Référence': '2019238', 'Ville': 'Liège', 'Type du bien': 'Industriel', 'Disponibilité': 'Vendu', 'État du bien': 'à rénover', 'Revenu cadastral': '13 499 €'}, {'': '69 000 €', 'Référence': '2020299', 'Ville': 'Liège Grivegnée', 'Type du bien': 'Appartement', 'Disponibilité': 'Vendu', 'État du bien': 'Bon état', 'Revenu cadastral': '493 €', 'Chambres': '1', 'Cuisine': '3.57 m2', 'Toilette': '1', 'Salle de bain': '3.09 m2', 'Totale habitable': '30 m2', 'Living': '23.41 m2', 'PEB Label': '', 'PEB Code unique': '20180906018899', 'E-Spec': '641 kWh/m²/an', 'E Total': '24472 kWh/an', 'Emission CO2': '117 Co2', 'Type de chauffage': 'Gaz (chau. centr.)'}, {'': '695 000 €', 'Référence': '4392741', 'Ville': 'Liège', 'Type du bien': 'Immeuble de rapport', 'Disponibilité': 'À vendre', 'État du bien': 'Excellent état', 'Revenu cadastral': '1 742 €', 'Chambres': '5', 'Cuisine': '1', 'Toilette': '4', 'Salle de bain': '3', 'Terrasse': '17.92 m2', 'Cave': 'Oui', 'Jardin': '50 m2', 'Totale habitable': '327 m2', 'Terrain': '185 m2', 'Chambre 1': '19.25 m2', 'Chambre 2': '10.97 m2', 'Chambre 3': '24.85 m2', 'Chambre 4': '24.9 m2', 'Chambre 5': '19.83 m2', 'PEB Label': '', 'PEB Code unique': '201911200127772', 'E-Spec': '235 kWh/m²/an', 'E Total': '81424 kWh/an', 'Emission CO2': '43 Co2', 'Type de chauffage': 'Gaz (chau. centr.)'}, {'': '695 000 €', 'Référence': '4392725', 'Ville': 'Liège', 'Type du bien': 'Maison', 'Disponibilité': 'À vendre', 'État du bien': 'Excellent état', 'Revenu cadastral': '1 742 €', 'Chambres': '5', 'Cuisine': '1', 'Toilette': '4', 'Salle de bain': '3', 'Terrasse': '17.92 m2', 'Cave': 'Oui', 'Jardin': '50 m2', 'Totale habitable': '327 m2', 'Terrain': '185 m2', 'Chambre 1': '19.25 m2', 'Chambre 2': '10.97 m2', 'Chambre 3': '24.85 m2', 'Chambre 4': '24.9 m2', 'Chambre 5': '19.83 m2', 'PEB Label': '', 'PEB Code unique': '201911200127772', 'E-Spec': '235 kWh/m²/an', 'E Total': '81424 kWh/an', 'Emission CO2': '43 Co2', 'Type de chauffage': 'Gaz (chau. centr.)'}, {'': '75 000 €', 'Référence': '2021343', 'Ville': 'Vise', 'Type du bien': 'Appartement', 'Disponibilité': 'Vendu', 'État du bien': 'à rafraîchir', 'Revenu cadastral': '535 €', 'Chambres': '1', 'Cuisine': '4.01 m2', 'Toilette': '1', 'Salle de bain': '3.01 m2', 'Totale habitable': '36 m2', 'Living': '20.38 m2', 'PEB Label': '', 'PEB Code unique': '20210205010617', 'E-Spec': '177 kWh/m²/an', 'E Total': '5776 kWh/an', 'Emission CO2': '42 Co2', 'Type de chauffage': 'Mazout (chauf. centr.)'}, {'': '75 000 €', 'Référence': '2020322', 'Ville': 'Liege', 'Type du bien': 'Appartement', 'Disponibilité': 'Vendu', 'État du bien': 'Bon état', 'Revenu cadastral': '617 €', 'Chambres': '1', 'Cuisine': '4.5 m2', 'Toilette': '1', 'Salle de bain': '3.53 m2', 'Cave': 'Oui', 'Totale habitable': '54 m2', 'Chambre 1': '24.99 m2', 'PEB Label': '', 'PEB Code unique': '20200807007685', 'E-Spec': '115 kWh/m²/an', 'E Total': '5363 kWh/an', 'Emission CO2': '22 Co2', 'Type de chauffage': 'Gaz (chau. centr.)'}, {'Prix': '76 500 €', 'Référence': '2019265', 'Ville': 'Liege', 'Type du bien': 'Maison', 'Disponibilité': 'Vendu', 'État du bien': 'à rafraîchir', 'Revenu cadastral': '111 €', 'Chambres': '2', 'Cuisine': '9.5 m2', 'Toilette': '1', 'Salle de bain': '1', 'Jardin': '120 m2', 'Totale habitable': '60 m2', 'Living': '10.26 m2', 'Chambre 1': '10.35 m2', 'Chambre 2': '13.02 m2', 'PEB Label': '', 'PEB Code unique': '20190910015728', 'E-Spec': '413 kWh/m²/an', 'E Total': '19755 kWh/an', 'Emission CO2': '75 Co2', 'Type de chauffage': 'Mazout (chauf. centr.)'}, {'Prix': '79 000 €', 'Référence': '2020296', 'Ville': 'Grâce-Hollogne', 'Type du bien': 'Terrain', 'Disponibilité': 'À vendre', 'État du bien': 'à construire', 'Revenu cadastral': '213 €', 'Terrain': '184 m2'}, {'': '79 500 €', 'Référence': '20202952', 'Ville': 'Liege', 'Type du bien': 'Maison', 'Disponibilité': 'Vendu', 'État du bien': 'à rénover', 'Revenu cadastral': '422 €', 'Chambres': '2', 'PEB Label': '', 'PEB Code unique': '20141211020351', 'E-Spec': '762 kWh/m²/an', 'E Total': '84854 kWh/an', 'Emission CO2': '138 Co2'}, {'Prix': '85 000 €', 'Référence': '2021347', 'Ville': 'Seraing', 'Type du bien': 'Maison', 'Disponibilité': 'Option', 'État du bien': 'à rafraîchir', 'Revenu cadastral': '280 €', 'Chambres': '4', 'Cuisine': '13.02 m2', 'Toilette': '1', 'Cave': 'Oui', 'Totale habitable': '80 m2', 'Terrain': '44 m2', 'Living': '9.37 m2', 'Chambre 1': '12.79 m2', 'Chambre 2': '10.61 m2', 'Chambre 3': '12.79 m2', 'Chambre 4': '16.41 m2', 'PEB Label': '', 'PEB Code unique': '20210809009590', 'E-Spec': '474 kWh/m²/an', 'E Total': '30491 kWh/an', 'Emission CO2': '90 Co2', 'Type de chauffage': 'Gaz'}, {'Prix': '89 000 €', 'Référence': '2020342', 'Ville': 'Grace-Hollogne', 'Type du bien': 'Maison', 'Disponibilité': 'Vendu', 'État du bien': 'à rénover', 'Revenu cadastral': '272 €', 'Chambres': '2', 'Cuisine': '11.85 m2', 'Toilette': '1', 'Salle de bain': '1', 'Jardin': '150 m2', 'Totale habitable': '87 m2', 'Terrain': '215 m2', 'Living': '13.79 m2', 'Chambre 1': '15.68 m2', 'Chambre 2': '14.88 m2', 'PEB Label': '', 'PEB Code unique': '20110827002724', 'E-Spec': '867 kWh/m²/an', 'E Total': '110402 kWh/an', 'Emission CO2': '216 Co2'}, {'': '89 000 €', 'Référence': '2019220', 'Ville': 'Berloz', 'Type du bien': 'Terrain', 'Disponibilité': 'Vendu', 'Revenu cadastral': '77 €', 'Terrain': '10000 m2'}, {'': '4013268', 'Ville': 'Grace-Hollogne', 'Type du bien': 'Terrain', 'Disponibilité': 'À vendre', 'Terrain': '1131 m2'}, {'': '89 000 €', 'Référence': '2020300', 'Ville': 'Grace-Hollogne', 'Type du bien': 'Terrain', 'Disponibilité': 'À vendre', 'Terrain': '1131 m2'}, {'': '2021392', 'Ville': 'Liege', 'Type du bien': 'Appartement', 'Disponibilité': 'Vendu', 'État du bien': 'Bon état', 'Année de construction': '1994', 'Revenu cadastral': '431 €', 'Chambres': '1', 'Cuisine': '2.76 m2', 'Toilette': '1', 'Salle de bain': '1', 'Garage': '1', 'Totale habitable': '32 m2', 'Living': '19.86 m2', 'PEB Label': '', 'PEB Code unique': '20210830000739', 'E-Spec': '143 kWh/m²/an', 'E Total': '5266 kWh/an', 'Emission CO2': '27 Co2'}, {'': '99 000 €', 'Référence': '2021354', 'Ville': 'Herstal', 'Type du bien': 'Appartement', 'Disponibilité': 'Vendu', 'État du bien': 'Bon état', 'Année de construction': '1968', 'Revenu cadastral': '654 €', 'Chambres': '1', 'Cuisine': '6.88 m2', 'Toilette': '1', 'Salle de bain': '1', 'Cave': 'Oui', 'Totale habitable': '55 m2', 'Living': '23.38 m2', 'Chambre 1': '14.47 m2', 'PEB Label': '', 'PEB Code unique': '20210305010012', 'E-Spec': '160 kWh/m²/an', 'E Total': '10660 kWh/an', 'Emission CO2': '40 Co2', 'Type de chauffage': 'Gaz'}, {'': '99 000 €', 'Référence': '2019279', 'Ville': 'Liege', 'Type du bien': 'Maison', 'Disponibilité': 'Vendu', 'État du bien': 'à rafraîchir', 'Revenu cadastral': '360 €', 'Chambres': '2', 'Cuisine': '12.47 m2', 'Toilette': '1', 'Salle de bain': '1', 'Totale habitable': '70 m2', 'Living': '16.25 m2', 'Chambre 1': '16.1 m2', 'Chambre 2': '10.48 m2', 'PEB Label': '', 'PEB Code unique': '20120524003433', 'E-Spec': '695 kWh/m²/an', 'E Total': '48845 kWh/an', 'Emission CO2': '131 Co2', 'Type de chauffage': 'Gaz'}, {'': '99 000 €', 'Référence': '2021366', 'Ville': 'Trooz', 'Type du bien': 'Maison', 'Disponibilité': 'Vendu', 'État du bien': 'Bon état', 'Revenu cadastral': '131 €', 'Chambres': '1', 'Cuisine': '14.82 m2', 'Toilette': '1', 'Salle de bain': '1', 'Cave': 'Oui', 'Totale habitable': '70 m2', 'Living': '17.86 m2', 'Chambre 1': '17.92 m2', 'PEB Label': '', 'PEB Code unique': '20210426015300', 'E-Spec': '281 kWh/m²/an', 'E Total': '16258 kWh/an', 'Emission CO2': '51 Co2', 'Type de chauffage': 'Gaz'}]\n"
     ]
    }
   ],
   "source": [
    "data = []\n",
    "x = 0\n",
    "\n",
    "for url in all_advert_urls:\n",
    "    result = readAdPage(url)\n",
    "    data.append(result)\n",
    "    print(f'working {x}')\n",
    "    x += 1\n",
    "    \n",
    "print(data)"
   ]
  },
  {
   "cell_type": "code",
   "execution_count": 130,
   "id": "aeaed4bb",
   "metadata": {},
   "outputs": [],
   "source": [
    "database = pd.DataFrame(data)"
   ]
  },
  {
   "cell_type": "code",
   "execution_count": 131,
   "id": "c57eed80",
   "metadata": {},
   "outputs": [
    {
     "name": "stdout",
     "output_type": "stream",
     "text": [
      "                        Ville Type du bien Disponibilité  État du bien  \\\n",
      "0     4045413           Liege     Commerce         Vendu      Bon état   \n",
      "1   109 000 €           Liege  Appartement         Vendu  à rafraîchir   \n",
      "2   109 000 €           Liege  Appartement         Vendu  à rafraîchir   \n",
      "3     4337874           Liege  Appartement         Vendu      Bon état   \n",
      "4   109 000 €           Liege       Maison         Vendu      Bon état   \n",
      "..        ...             ...          ...           ...           ...   \n",
      "86   89 000 €  Grace-Hollogne      Terrain      À vendre           NaN   \n",
      "87    2021392           Liege  Appartement         Vendu      Bon état   \n",
      "88   99 000 €         Herstal  Appartement         Vendu      Bon état   \n",
      "89   99 000 €           Liege       Maison         Vendu  à rafraîchir   \n",
      "90   99 000 €           Trooz       Maison         Vendu      Bon état   \n",
      "\n",
      "   Revenu cadastral Toilette Cave   Type de chauffage Référence  ...  Terrain  \\\n",
      "0           1 311 €        1  Oui                 Gaz       NaN  ...      NaN   \n",
      "1             696 €        1  Oui                 Gaz   4226044  ...      NaN   \n",
      "2             765 €        1  Oui                 Gaz   2021367  ...      NaN   \n",
      "3             431 €        1  Oui                 Gaz       NaN  ...      NaN   \n",
      "4             270 €        1  Oui  Gaz (chau. centr.)   4076658  ...    30 m2   \n",
      "..              ...      ...  ...                 ...       ...  ...      ...   \n",
      "86              NaN      NaN  NaN                 NaN   2020300  ...  1131 m2   \n",
      "87            431 €        1  NaN                 NaN       NaN  ...      NaN   \n",
      "88            654 €        1  Oui                 Gaz   2021354  ...      NaN   \n",
      "89            360 €        1  NaN                 Gaz   2019279  ...      NaN   \n",
      "90            131 €        1  Oui                 Gaz   2021366  ...      NaN   \n",
      "\n",
      "   Chambre 2 Terrasse Chambre 3 Chambre 4 Chambre 5 Prix Garage  \\\n",
      "0        NaN      NaN       NaN       NaN       NaN  NaN    NaN   \n",
      "1        NaN      NaN       NaN       NaN       NaN  NaN    NaN   \n",
      "2        NaN      NaN       NaN       NaN       NaN  NaN    NaN   \n",
      "3        NaN      NaN       NaN       NaN       NaN  NaN    NaN   \n",
      "4   16.96 m2      NaN       NaN       NaN       NaN  NaN    NaN   \n",
      "..       ...      ...       ...       ...       ...  ...    ...   \n",
      "86       NaN      NaN       NaN       NaN       NaN  NaN    NaN   \n",
      "87       NaN      NaN       NaN       NaN       NaN  NaN      1   \n",
      "88       NaN      NaN       NaN       NaN       NaN  NaN    NaN   \n",
      "89  10.48 m2      NaN       NaN       NaN       NaN  NaN    NaN   \n",
      "90       NaN      NaN       NaN       NaN       NaN  NaN    NaN   \n",
      "\n",
      "   Salle à manger Parking  \n",
      "0             NaN     NaN  \n",
      "1             NaN     NaN  \n",
      "2             NaN     NaN  \n",
      "3             NaN     NaN  \n",
      "4             NaN     NaN  \n",
      "..            ...     ...  \n",
      "86            NaN     NaN  \n",
      "87            NaN     NaN  \n",
      "88            NaN     NaN  \n",
      "89            NaN     NaN  \n",
      "90            NaN     NaN  \n",
      "\n",
      "[91 rows x 33 columns]\n"
     ]
    }
   ],
   "source": [
    "print(database)"
   ]
  },
  {
   "cell_type": "code",
   "execution_count": 133,
   "id": "7109f92a",
   "metadata": {},
   "outputs": [],
   "source": [
    "database.to_csv('eliza.csv')"
   ]
  },
  {
   "cell_type": "code",
   "execution_count": 134,
   "id": "8e34aaee",
   "metadata": {},
   "outputs": [],
   "source": [
    "database['source'] = all_advert_urls"
   ]
  },
  {
   "cell_type": "code",
   "execution_count": 135,
   "id": "f4e97396",
   "metadata": {},
   "outputs": [],
   "source": [
    "database.to_csv('eliza.csv')"
   ]
  },
  {
   "cell_type": "code",
   "execution_count": 4,
   "id": "9d118fde",
   "metadata": {},
   "outputs": [],
   "source": [
    "import pandas as pd\n",
    "\n",
    "database = pd.read_csv('eliza.csv')"
   ]
  },
  {
   "cell_type": "code",
   "execution_count": 13,
   "id": "2c910538",
   "metadata": {},
   "outputs": [
    {
     "name": "stdout",
     "output_type": "stream",
     "text": [
      "1\n",
      "1\n",
      "1\n",
      "1\n",
      "1\n",
      "1\n",
      "1\n",
      "1\n",
      "1\n",
      "1\n",
      "1\n",
      "0\n",
      "1\n",
      "1\n",
      "1\n",
      "1\n",
      "1\n",
      "1\n",
      "0\n",
      "1\n",
      "1\n",
      "0\n",
      "0\n",
      "1\n",
      "0\n",
      "1\n",
      "0\n",
      "1\n",
      "1\n",
      "0\n",
      "1\n",
      "1\n",
      "1\n",
      "1\n",
      "1\n",
      "0\n",
      "1\n",
      "1\n",
      "1\n",
      "0\n",
      "1\n",
      "1\n",
      "1\n",
      "1\n",
      "1\n",
      "0\n",
      "1\n",
      "1\n",
      "0\n",
      "1\n",
      "1\n",
      "1\n",
      "1\n",
      "1\n",
      "0\n",
      "1\n",
      "1\n",
      "1\n",
      "1\n",
      "1\n",
      "1\n",
      "0\n",
      "1\n",
      "1\n",
      "1\n",
      "1\n",
      "1\n",
      "1\n",
      "1\n",
      "0\n",
      "0\n",
      "1\n",
      "0\n",
      "0\n",
      "0\n",
      "1\n",
      "1\n",
      "0\n",
      "1\n",
      "0\n",
      "0\n",
      "0\n",
      "1\n",
      "0\n",
      "0\n",
      "0\n",
      "0\n",
      "0\n",
      "1\n",
      "0\n",
      "1\n"
     ]
    }
   ],
   "source": [
    "for index, row in database.iterrows():\n",
    "    if row['Cave'] == 'Oui':\n",
    "        ifor_val = 1\n",
    "    else:\n",
    "        ifor_val = 0\n",
    "    database.at[index,'Cave'] = ifor_val\n",
    "\n",
    "        \n",
    "for index, row in database.iterrows():\n",
    "    print(row['Cave'])"
   ]
  },
  {
   "cell_type": "code",
   "execution_count": null,
   "id": "c86f5b59",
   "metadata": {},
   "outputs": [],
   "source": []
  },
  {
   "cell_type": "code",
   "execution_count": null,
   "id": "3250ab63",
   "metadata": {},
   "outputs": [],
   "source": [
    "class Elissa():\n",
    "    def __init__(self):\n",
    "        self.first_page = 'https://immoelissa.be/immobilier/?sort=prix-c'\n",
    "        self.data = []\n",
    "    \n",
    "    def scrape(self):\n",
    "        \"\"\"\n",
    "        Scrape methods calls other methods in the class in order. TODO add threading support.\n",
    "        \"\"\"\n",
    "        \n",
    "        for url in all_advert_urls:\n",
    "            result = readAdPage(url)\n",
    "            self.data.append(result)\n",
    "    \n",
    "    def properties_url(self, inp_url):\n",
    "        driver.get(inp_url)\n",
    "        url = []\n",
    "        time.sleep(random.uniform(1.0, 2.0))\n",
    "        for elem in driver.find_elements_by_tag_name(\"a\"):\n",
    "            link = elem.get_attribute(\"href\")\n",
    "            if not link is None and \"annonces\" in link:\n",
    "                url.append(link)\n",
    "        return url\n",
    "    \n",
    "    def readPagination(self):\n",
    "        \"\"\"\n",
    "        readPagination gathers all pages that contain independent ads. The first one is hardcoded and \n",
    "        aferwards it formats the URL as a string until no new ads are found.\n",
    "\n",
    "        :return: a list of URLs that link to each page of a search query. \n",
    "        \"\"\"\n",
    "\n",
    "        # initiaze a list for storing all the page URLS\n",
    "        page_urls = []\n",
    "        page_urls.append(self.first_page)\n",
    "\n",
    "        # initialize a list for storing all the seperate links to individual ads.\n",
    "        all_advert_urls = []\n",
    "        advert_urls = []\n",
    "        counter = 2\n",
    "\n",
    "        advert_urls = properties_url(self.first_page)\n",
    "        all_advert_urls.extend(advert_urls)\n",
    "\n",
    "        while advert_urls != []:\n",
    "            url2 = f\"https://immoelissa.be/immobilier/?pg={counter}&sort=prix-c\"\n",
    "            advert_urls = properties_url(url2)\n",
    "            all_advert_urls.extend(advert_urls)\n",
    "            counter += 1\n",
    "            print(advert_urls)\n",
    "        \n",
    "        return all_advert_urls\n",
    "    \n",
    "    def readAdPage(self, inp_url):\n",
    "        \"\"\"\n",
    "        Method the reads all the information on the page and writes it to a dict using the key, \n",
    "        value pairs used on the website in question. \n",
    "\n",
    "        :inp_url: get the input URL that we will be gathering information from.\n",
    "        :return: a dict that stores scraped data\n",
    "        \"\"\"\n",
    "\n",
    "        # initialize some variables.\n",
    "        detailsKeys = []\n",
    "        detailsValues = []\n",
    "        details = {}\n",
    "\n",
    "        # grab the URL page code\n",
    "        driver.get(inp_url)\n",
    "\n",
    "        # find the tables in the page and split data in 2 types, keys and values.\n",
    "        for desc_list in driver.find_elements_by_tag_name(\"dt\"):\n",
    "            detail = desc_list.text.split(\"\\n\")\n",
    "            detailsKeys.extend(detail)\n",
    "\n",
    "        for desc_list in driver.find_elements_by_tag_name(\"dd\"):\n",
    "            detail = desc_list.text.split(\"\\n\")\n",
    "            detailsValues.extend(detail)\n",
    "\n",
    "        # build a dict containing all gathered data\n",
    "        for idx, x in enumerate(detailsKeys):\n",
    "            details[x] = detailsValues[idx]\n",
    "\n",
    "        return details\n"
   ]
  }
 ],
 "metadata": {
  "kernelspec": {
   "display_name": "Python 3 (ipykernel)",
   "language": "python",
   "name": "python3"
  },
  "language_info": {
   "codemirror_mode": {
    "name": "ipython",
    "version": 3
   },
   "file_extension": ".py",
   "mimetype": "text/x-python",
   "name": "python",
   "nbconvert_exporter": "python",
   "pygments_lexer": "ipython3",
   "version": "3.8.11"
  }
 },
 "nbformat": 4,
 "nbformat_minor": 5
}
