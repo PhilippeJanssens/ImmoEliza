{
 "cells": [
  {
   "cell_type": "code",
   "execution_count": 22,
   "id": "b49b141b",
   "metadata": {},
   "outputs": [
    {
     "name": "stdout",
     "output_type": "stream",
     "text": [
      "immowebDataset.csv\n",
      "immoweb_aggregated.csv\n"
     ]
    },
    {
     "name": "stderr",
     "output_type": "stream",
     "text": [
      "C:\\Users\\aubin\\anaconda3\\envs\\pythonBasics\\lib\\site-packages\\IPython\\core\\interactiveshell.py:3441: DtypeWarning: Columns (3,4,5,6,7,8,23,25,26,29,30,31,32,33,40,41,44,52,53,56,58,66,67,68,69,74,76,80,81,89,92,93,94,95,96,97,100,105,106,107,111,112,113,114,117,118,119,120,121,122,123,124,125,126,127,128,129,130,131,132,133,134,135,136,137,138,139,140,141,142,143,144,145,146,147,148,149,150,151,152,153,154,155,156,157,158,160,161,162,163,164,168,169,170,171,172,173,174,175,176,177,178,179,180,181,182,183,184,185,186,187,188,189,190,191,192,193,194,195,196,197,198,199,200,201,202,203,204,205,206,207,208,209,211,212,218,219,220,221,222,223,224,225,226,227,228,229,230,231,232,233,234,235,236,237,238,239,240,241,242,243,244,245,246,247,248,249,250,251,252,253,254,255,256,257,258,259,261,262,265,266,267) have mixed types.Specify dtype option on import or set low_memory=False.\n",
      "  exec(code_obj, self.user_global_ns, self.user_ns)\n"
     ]
    },
    {
     "name": "stdout",
     "output_type": "stream",
     "text": [
      "immoweb_batch1.csv\n",
      "immoweb_batch2.csv\n",
      "immoweb_batch_101_105.csv\n",
      "immoweb_batch_106_110.csv\n",
      "immoweb_batch_111_115.csv\n",
      "immoweb_batch_116_120.csv\n",
      "immoweb_batch_11_15.csv\n",
      "immoweb_batch_121_125.csv\n",
      "immoweb_batch_126_130.csv\n",
      "immoweb_batch_131_135.csv\n",
      "immoweb_batch_136_140.csv\n",
      "immoweb_batch_141_145.csv\n",
      "immoweb_batch_146_150.csv\n",
      "immoweb_batch_151_155.csv\n",
      "immoweb_batch_156_160.csv\n",
      "immoweb_batch_161_165.csv\n",
      "immoweb_batch_166_170.csv\n",
      "immoweb_batch_16_20.csv\n",
      "immoweb_batch_181_185.csv\n",
      "immoweb_batch_186_190.csv\n",
      "immoweb_batch_191_195.csv\n",
      "immoweb_batch_196_200.csv\n",
      "immoweb_batch_1_5.csv\n",
      "immoweb_batch_201_205.csv\n",
      "immoweb_batch_206_210.csv\n",
      "immoweb_batch_211_215.csv\n",
      "immoweb_batch_216_220.csv\n",
      "immoweb_batch_21_25.csv\n",
      "immoweb_batch_221_225.csv\n",
      "immoweb_batch_226_230.csv\n",
      "immoweb_batch_231_235.csv\n",
      "immoweb_batch_236_240.csv\n",
      "immoweb_batch_241_245.csv\n",
      "immoweb_batch_246_250.csv\n",
      "immoweb_batch_251_255.csv\n",
      "immoweb_batch_256_260.csv\n",
      "immoweb_batch_261_265.csv\n",
      "immoweb_batch_266_270.csv\n",
      "immoweb_batch_26_30.csv\n",
      "immoweb_batch_271_275.csv\n",
      "immoweb_batch_276_280.csv\n",
      "immoweb_batch_281_285.csv\n",
      "immoweb_batch_286_290.csv\n",
      "immoweb_batch_291_295.csv\n",
      "immoweb_batch_296_300.csv\n",
      "immoweb_batch_301_305.csv\n",
      "immoweb_batch_306_310.csv\n",
      "immoweb_batch_311_315.csv\n",
      "immoweb_batch_316_320.csv\n",
      "immoweb_batch_31_35.csv\n",
      "immoweb_batch_321_325.csv\n",
      "immoweb_batch_326_330.csv\n",
      "immoweb_batch_36_40.csv\n",
      "immoweb_batch_41_45.csv\n",
      "immoweb_batch_46_50.csv\n",
      "immoweb_batch_51_55.csv\n",
      "immoweb_batch_56_60.csv\n",
      "immoweb_batch_61_65.csv\n",
      "immoweb_batch_66_70.csv\n",
      "immoweb_batch_6_10.csv\n",
      "immoweb_batch_71_75.csv\n",
      "immoweb_batch_76_80.csv\n",
      "immoweb_batch_81_85.csv\n",
      "immoweb_batch_86_90.csv\n",
      "immoweb_batch_91_95.csv\n",
      "immoweb_batch_96_100.csv\n"
     ]
    }
   ],
   "source": [
    "import pandas as pd\n",
    "import os\n",
    "\n",
    "files = [f for f in os.listdir('.') if os.path.isfile(f)]\n",
    "\n",
    "li = []\n",
    "\n",
    "for filename in files:\n",
    "    if '.csv' in filename:\n",
    "        print(filename)\n",
    "        try:\n",
    "            df = pd.read_csv(filename, index_col=None, header=0)\n",
    "        except:\n",
    "            pass\n",
    "        li.append(df)\n",
    "\n",
    "frame = pd.concat(li, axis=0, ignore_index=True)\n",
    "frame.to_csv('immoweb_aggregated.csv')"
   ]
  },
  {
   "cell_type": "code",
   "execution_count": null,
   "id": "138f3f5e",
   "metadata": {},
   "outputs": [],
   "source": []
  }
 ],
 "metadata": {
  "kernelspec": {
   "display_name": "Python 3 (ipykernel)",
   "language": "python",
   "name": "python3"
  },
  "language_info": {
   "codemirror_mode": {
    "name": "ipython",
    "version": 3
   },
   "file_extension": ".py",
   "mimetype": "text/x-python",
   "name": "python",
   "nbconvert_exporter": "python",
   "pygments_lexer": "ipython3",
   "version": "3.8.11"
  }
 },
 "nbformat": 4,
 "nbformat_minor": 5
}
