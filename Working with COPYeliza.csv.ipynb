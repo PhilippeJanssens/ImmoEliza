{
 "cells": [
  {
   "cell_type": "code",
   "execution_count": 1,
   "id": "2cfb0dd6",
   "metadata": {},
   "outputs": [],
   "source": [
    "import pandas as pd"
   ]
  },
  {
   "cell_type": "code",
   "execution_count": 2,
   "id": "636a6bde",
   "metadata": {},
   "outputs": [],
   "source": [
    "df = pd.read_csv(\"COPY_eliza.csv\")"
   ]
  },
  {
   "cell_type": "code",
   "execution_count": 3,
   "id": "d44307ca",
   "metadata": {},
   "outputs": [
    {
     "name": "stdout",
     "output_type": "stream",
     "text": [
      "    Unnamed: 0 Unnamed: 1           Ville Type du bien Disponibilité  \\\n",
      "0            0    4045413           Liege     Commerce         Vendu   \n",
      "1            1  109 000 €           Liege  Appartement         Vendu   \n",
      "2            2  109 000 €           Liege  Appartement         Vendu   \n",
      "3            3    4337874           Liege  Appartement         Vendu   \n",
      "4            4  109 000 €           Liege       Maison         Vendu   \n",
      "..         ...        ...             ...          ...           ...   \n",
      "86          86   89 000 €  Grace-Hollogne      Terrain      À vendre   \n",
      "87          87    2021392           Liege  Appartement         Vendu   \n",
      "88          88   99 000 €         Herstal  Appartement         Vendu   \n",
      "89          89   99 000 €           Liege       Maison         Vendu   \n",
      "90          90   99 000 €           Trooz       Maison         Vendu   \n",
      "\n",
      "    État du bien Revenu cadastral  Toilette Cave   Type de chauffage  ...  \\\n",
      "0       Bon état          1 311 €       1.0  Oui                 Gaz  ...   \n",
      "1   à rafraîchir            696 €       1.0  Oui                 Gaz  ...   \n",
      "2   à rafraîchir            765 €       1.0  Oui                 Gaz  ...   \n",
      "3       Bon état            431 €       1.0  Oui                 Gaz  ...   \n",
      "4       Bon état            270 €       1.0  Oui  Gaz (chau. centr.)  ...   \n",
      "..           ...              ...       ...  ...                 ...  ...   \n",
      "86           NaN              NaN       NaN  NaN                 NaN  ...   \n",
      "87      Bon état            431 €       1.0  NaN                 NaN  ...   \n",
      "88      Bon état            654 €       1.0  Oui                 Gaz  ...   \n",
      "89  à rafraîchir            360 €       1.0  NaN                 Gaz  ...   \n",
      "90      Bon état            131 €       1.0  Oui                 Gaz  ...   \n",
      "\n",
      "    Terrain  Chambre 2  Terrasse Chambre 3 Chambre 4 Chambre 5 Prix Garage  \\\n",
      "0       NaN        NaN       NaN       NaN       NaN       NaN  NaN    NaN   \n",
      "1       NaN        NaN       NaN       NaN       NaN       NaN  NaN    NaN   \n",
      "2       NaN        NaN       NaN       NaN       NaN       NaN  NaN    NaN   \n",
      "3       NaN        NaN       NaN       NaN       NaN       NaN  NaN    NaN   \n",
      "4     30 m2   16.96 m2       NaN       NaN       NaN       NaN  NaN    NaN   \n",
      "..      ...        ...       ...       ...       ...       ...  ...    ...   \n",
      "86  1131 m2        NaN       NaN       NaN       NaN       NaN  NaN    NaN   \n",
      "87      NaN        NaN       NaN       NaN       NaN       NaN  NaN    1.0   \n",
      "88      NaN        NaN       NaN       NaN       NaN       NaN  NaN    NaN   \n",
      "89      NaN   10.48 m2       NaN       NaN       NaN       NaN  NaN    NaN   \n",
      "90      NaN        NaN       NaN       NaN       NaN       NaN  NaN    NaN   \n",
      "\n",
      "    Salle à manger  Parking  \n",
      "0              NaN      NaN  \n",
      "1              NaN      NaN  \n",
      "2              NaN      NaN  \n",
      "3              NaN      NaN  \n",
      "4              NaN      NaN  \n",
      "..             ...      ...  \n",
      "86             NaN      NaN  \n",
      "87             NaN      NaN  \n",
      "88             NaN      NaN  \n",
      "89             NaN      NaN  \n",
      "90             NaN      NaN  \n",
      "\n",
      "[91 rows x 34 columns]\n"
     ]
    }
   ],
   "source": [
    "print(df)"
   ]
  },
  {
   "cell_type": "code",
   "execution_count": null,
   "id": "2280d429",
   "metadata": {},
   "outputs": [],
   "source": []
  },
  {
   "cell_type": "code",
   "execution_count": null,
   "id": "d5327086",
   "metadata": {},
   "outputs": [],
   "source": []
  },
  {
   "cell_type": "code",
   "execution_count": null,
   "id": "45bb4e38",
   "metadata": {},
   "outputs": [],
   "source": []
  },
  {
   "cell_type": "code",
   "execution_count": null,
   "id": "90d07541",
   "metadata": {},
   "outputs": [],
   "source": []
  },
  {
   "cell_type": "code",
   "execution_count": null,
   "id": "9a59ecc3",
   "metadata": {},
   "outputs": [],
   "source": []
  },
  {
   "cell_type": "code",
   "execution_count": null,
   "id": "bae98bcd",
   "metadata": {},
   "outputs": [],
   "source": []
  }
 ],
 "metadata": {
  "kernelspec": {
   "display_name": "Python 3",
   "language": "python",
   "name": "python3"
  },
  "language_info": {
   "codemirror_mode": {
    "name": "ipython",
    "version": 3
   },
   "file_extension": ".py",
   "mimetype": "text/x-python",
   "name": "python",
   "nbconvert_exporter": "python",
   "pygments_lexer": "ipython3",
   "version": "3.8.8"
  }
 },
 "nbformat": 4,
 "nbformat_minor": 5
}
